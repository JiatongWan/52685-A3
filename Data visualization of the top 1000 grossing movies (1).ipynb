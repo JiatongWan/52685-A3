{
 "cells": [
  {
   "cell_type": "code",
   "execution_count": 2,
   "metadata": {},
   "outputs": [],
   "source": [
    "# -*- coding: utf-8 -*-"
   ]
  },
  {
   "cell_type": "code",
   "execution_count": 3,
   "metadata": {},
   "outputs": [
    {
     "name": "stdout",
     "output_type": "stream",
     "text": [
      "Requirement already satisfied: plotly in c:\\users\\59455\\anaconda3\\lib\\site-packages (5.11.0)\n",
      "Requirement already satisfied: tenacity>=6.2.0 in c:\\users\\59455\\anaconda3\\lib\\site-packages (from plotly) (8.1.0)\n",
      "Note: you may need to restart the kernel to use updated packages.\n"
     ]
    }
   ],
   "source": [
    "pip install plotly"
   ]
  },
  {
   "cell_type": "code",
   "execution_count": 4,
   "metadata": {},
   "outputs": [],
   "source": [
    "# Importing the modules\n",
    "import pandas as pd\n",
    "import numpy as np\n",
    "import matplotlib.pyplot as plt\n",
    "import time\n",
    "import seaborn as sns\n",
    "import plotly.express as px\n"
   ]
  },
  {
   "cell_type": "code",
   "execution_count": 5,
   "metadata": {},
   "outputs": [
    {
     "data": {
      "text/html": [
       "<div>\n",
       "<style scoped>\n",
       "    .dataframe tbody tr th:only-of-type {\n",
       "        vertical-align: middle;\n",
       "    }\n",
       "\n",
       "    .dataframe tbody tr th {\n",
       "        vertical-align: top;\n",
       "    }\n",
       "\n",
       "    .dataframe thead th {\n",
       "        text-align: right;\n",
       "    }\n",
       "</style>\n",
       "<table border=\"1\" class=\"dataframe\">\n",
       "  <thead>\n",
       "    <tr style=\"text-align: right;\">\n",
       "      <th></th>\n",
       "      <th>Title</th>\n",
       "      <th>Release Date</th>\n",
       "      <th>Domestic Sales (in $)</th>\n",
       "      <th>International Sales (in $)</th>\n",
       "      <th>World Sales (in $)</th>\n",
       "      <th>Genre</th>\n",
       "      <th>Movie Runtime</th>\n",
       "    </tr>\n",
       "  </thead>\n",
       "  <tbody>\n",
       "    <tr>\n",
       "      <th>0</th>\n",
       "      <td>Star Wars: Episode VII - The Force Awakens (2015)</td>\n",
       "      <td>2015.0</td>\n",
       "      <td>936662225</td>\n",
       "      <td>1132859475</td>\n",
       "      <td>2069521700</td>\n",
       "      <td>['Action', 'Adventure', 'Sci-Fi']</td>\n",
       "      <td>2 hr 18 min</td>\n",
       "    </tr>\n",
       "    <tr>\n",
       "      <th>1</th>\n",
       "      <td>Avengers: Endgame (2019)</td>\n",
       "      <td>2019.0</td>\n",
       "      <td>858373000</td>\n",
       "      <td>1939128328</td>\n",
       "      <td>2797501328</td>\n",
       "      <td>['Action', 'Adventure', 'Drama', 'Sci-Fi']</td>\n",
       "      <td>3 hr 1 min</td>\n",
       "    </tr>\n",
       "    <tr>\n",
       "      <th>2</th>\n",
       "      <td>Avatar (2009)</td>\n",
       "      <td>2009.0</td>\n",
       "      <td>760507625</td>\n",
       "      <td>2086738578</td>\n",
       "      <td>2847246203</td>\n",
       "      <td>['Action', 'Adventure', 'Fantasy', 'Sci-Fi']</td>\n",
       "      <td>2 hr 42 min</td>\n",
       "    </tr>\n",
       "    <tr>\n",
       "      <th>3</th>\n",
       "      <td>Black Panther (2018)</td>\n",
       "      <td>NaN</td>\n",
       "      <td>700426566</td>\n",
       "      <td>647171407</td>\n",
       "      <td>1347597973</td>\n",
       "      <td>['Action', 'Adventure', 'Sci-Fi']</td>\n",
       "      <td>2 hr 14 min</td>\n",
       "    </tr>\n",
       "    <tr>\n",
       "      <th>4</th>\n",
       "      <td>Avengers: Infinity War (2018)</td>\n",
       "      <td>NaN</td>\n",
       "      <td>678815482</td>\n",
       "      <td>1369544272</td>\n",
       "      <td>2048359754</td>\n",
       "      <td>['Action', 'Adventure', 'Sci-Fi']</td>\n",
       "      <td>2 hr 29 min</td>\n",
       "    </tr>\n",
       "    <tr>\n",
       "      <th>...</th>\n",
       "      <td>...</td>\n",
       "      <td>...</td>\n",
       "      <td>...</td>\n",
       "      <td>...</td>\n",
       "      <td>...</td>\n",
       "      <td>...</td>\n",
       "      <td>...</td>\n",
       "    </tr>\n",
       "    <tr>\n",
       "      <th>913</th>\n",
       "      <td>The Notebook (2004)</td>\n",
       "      <td>2004.0</td>\n",
       "      <td>81001787</td>\n",
       "      <td>36813370</td>\n",
       "      <td>117815157</td>\n",
       "      <td>['Drama', 'Romance']</td>\n",
       "      <td>2 hr 3 min</td>\n",
       "    </tr>\n",
       "    <tr>\n",
       "      <th>914</th>\n",
       "      <td>Jimmy Neutron: Boy Genius (2001)</td>\n",
       "      <td>2001.0</td>\n",
       "      <td>80936232</td>\n",
       "      <td>22056304</td>\n",
       "      <td>102992536</td>\n",
       "      <td>['Action', 'Adventure', 'Animation', 'Comedy',...</td>\n",
       "      <td>1 hr 22 min</td>\n",
       "    </tr>\n",
       "    <tr>\n",
       "      <th>915</th>\n",
       "      <td>Eat Pray Love (2010)</td>\n",
       "      <td>2010.0</td>\n",
       "      <td>80574010</td>\n",
       "      <td>124020006</td>\n",
       "      <td>204594016</td>\n",
       "      <td>['Biography', 'Drama', 'Romance']</td>\n",
       "      <td>2 hr 13 min</td>\n",
       "    </tr>\n",
       "    <tr>\n",
       "      <th>916</th>\n",
       "      <td>The Texas Chainsaw Massacre (2003)</td>\n",
       "      <td>2003.0</td>\n",
       "      <td>80571655</td>\n",
       "      <td>26792250</td>\n",
       "      <td>107363905</td>\n",
       "      <td>['Crime', 'Horror']</td>\n",
       "      <td>1 hr 38 min</td>\n",
       "    </tr>\n",
       "    <tr>\n",
       "      <th>917</th>\n",
       "      <td>Zookeeper (2011)</td>\n",
       "      <td>2011.0</td>\n",
       "      <td>80360843</td>\n",
       "      <td>89491916</td>\n",
       "      <td>169852759</td>\n",
       "      <td>['Comedy', 'Family', 'Fantasy', 'Romance']</td>\n",
       "      <td>1 hr 42 min</td>\n",
       "    </tr>\n",
       "  </tbody>\n",
       "</table>\n",
       "<p>918 rows × 7 columns</p>\n",
       "</div>"
      ],
      "text/plain": [
       "                                                 Title  Release Date  \\\n",
       "0    Star Wars: Episode VII - The Force Awakens (2015)        2015.0   \n",
       "1                             Avengers: Endgame (2019)        2019.0   \n",
       "2                                        Avatar (2009)        2009.0   \n",
       "3                                 Black Panther (2018)           NaN   \n",
       "4                        Avengers: Infinity War (2018)           NaN   \n",
       "..                                                 ...           ...   \n",
       "913                                The Notebook (2004)        2004.0   \n",
       "914                   Jimmy Neutron: Boy Genius (2001)        2001.0   \n",
       "915                               Eat Pray Love (2010)        2010.0   \n",
       "916                 The Texas Chainsaw Massacre (2003)        2003.0   \n",
       "917                                   Zookeeper (2011)        2011.0   \n",
       "\n",
       "     Domestic Sales (in $)  International Sales (in $)  World Sales (in $)  \\\n",
       "0                936662225                  1132859475          2069521700   \n",
       "1                858373000                  1939128328          2797501328   \n",
       "2                760507625                  2086738578          2847246203   \n",
       "3                700426566                   647171407          1347597973   \n",
       "4                678815482                  1369544272          2048359754   \n",
       "..                     ...                         ...                 ...   \n",
       "913               81001787                    36813370           117815157   \n",
       "914               80936232                    22056304           102992536   \n",
       "915               80574010                   124020006           204594016   \n",
       "916               80571655                    26792250           107363905   \n",
       "917               80360843                    89491916           169852759   \n",
       "\n",
       "                                                 Genre Movie Runtime  \n",
       "0                    ['Action', 'Adventure', 'Sci-Fi']   2 hr 18 min  \n",
       "1           ['Action', 'Adventure', 'Drama', 'Sci-Fi']    3 hr 1 min  \n",
       "2         ['Action', 'Adventure', 'Fantasy', 'Sci-Fi']   2 hr 42 min  \n",
       "3                    ['Action', 'Adventure', 'Sci-Fi']   2 hr 14 min  \n",
       "4                    ['Action', 'Adventure', 'Sci-Fi']   2 hr 29 min  \n",
       "..                                                 ...           ...  \n",
       "913                               ['Drama', 'Romance']    2 hr 3 min  \n",
       "914  ['Action', 'Adventure', 'Animation', 'Comedy',...   1 hr 22 min  \n",
       "915                  ['Biography', 'Drama', 'Romance']   2 hr 13 min  \n",
       "916                                ['Crime', 'Horror']   1 hr 38 min  \n",
       "917         ['Comedy', 'Family', 'Fantasy', 'Romance']   1 hr 42 min  \n",
       "\n",
       "[918 rows x 7 columns]"
      ]
     },
     "execution_count": 5,
     "metadata": {},
     "output_type": "execute_result"
    }
   ],
   "source": [
    "# Load a dataset as a pandas dataframe\n",
    "df= pd.read_csv('Highest Holywood Grossing Movies.csv')\n",
    "df"
   ]
  },
  {
   "cell_type": "code",
   "execution_count": 6,
   "metadata": {},
   "outputs": [],
   "source": [
    "#Data Validation#"
   ]
  },
  {
   "cell_type": "code",
   "execution_count": 7,
   "metadata": {},
   "outputs": [
    {
     "name": "stdout",
     "output_type": "stream",
     "text": [
      "<class 'pandas.core.frame.DataFrame'>\n",
      "RangeIndex: 918 entries, 0 to 917\n",
      "Data columns (total 7 columns):\n",
      " #   Column                      Non-Null Count  Dtype  \n",
      "---  ------                      --------------  -----  \n",
      " 0   Title                       918 non-null    object \n",
      " 1   Release Date                800 non-null    float64\n",
      " 2   Domestic Sales (in $)       918 non-null    int64  \n",
      " 3   International Sales (in $)  918 non-null    int64  \n",
      " 4   World Sales (in $)          918 non-null    int64  \n",
      " 5   Genre                       918 non-null    object \n",
      " 6   Movie Runtime               918 non-null    object \n",
      "dtypes: float64(1), int64(3), object(3)\n",
      "memory usage: 50.3+ KB\n"
     ]
    }
   ],
   "source": [
    "df.info()"
   ]
  },
  {
   "cell_type": "code",
   "execution_count": 8,
   "metadata": {},
   "outputs": [],
   "source": [
    "#Finding and removing duplicate rows#"
   ]
  },
  {
   "cell_type": "code",
   "execution_count": 9,
   "metadata": {},
   "outputs": [
    {
     "data": {
      "text/plain": [
       "0      False\n",
       "1      False\n",
       "2      False\n",
       "3      False\n",
       "4      False\n",
       "       ...  \n",
       "913    False\n",
       "914    False\n",
       "915    False\n",
       "916    False\n",
       "917    False\n",
       "Length: 918, dtype: bool"
      ]
     },
     "execution_count": 9,
     "metadata": {},
     "output_type": "execute_result"
    }
   ],
   "source": [
    "df.duplicated(keep=False)"
   ]
  },
  {
   "cell_type": "code",
   "execution_count": 10,
   "metadata": {},
   "outputs": [],
   "source": [
    "df.drop_duplicates(inplace = True)"
   ]
  },
  {
   "cell_type": "code",
   "execution_count": 11,
   "metadata": {},
   "outputs": [
    {
     "data": {
      "text/html": [
       "<div>\n",
       "<style scoped>\n",
       "    .dataframe tbody tr th:only-of-type {\n",
       "        vertical-align: middle;\n",
       "    }\n",
       "\n",
       "    .dataframe tbody tr th {\n",
       "        vertical-align: top;\n",
       "    }\n",
       "\n",
       "    .dataframe thead th {\n",
       "        text-align: right;\n",
       "    }\n",
       "</style>\n",
       "<table border=\"1\" class=\"dataframe\">\n",
       "  <thead>\n",
       "    <tr style=\"text-align: right;\">\n",
       "      <th></th>\n",
       "      <th>Title</th>\n",
       "      <th>Domestic Sales (in $)</th>\n",
       "      <th>International Sales (in $)</th>\n",
       "      <th>World Sales (in $)</th>\n",
       "      <th>Proportion of domestic sales(%)</th>\n",
       "    </tr>\n",
       "  </thead>\n",
       "  <tbody>\n",
       "    <tr>\n",
       "      <th>0</th>\n",
       "      <td>Star Wars: Episode VII - The Force Awakens (2015)</td>\n",
       "      <td>936662225</td>\n",
       "      <td>1132859475</td>\n",
       "      <td>2069521700</td>\n",
       "      <td>45</td>\n",
       "    </tr>\n",
       "    <tr>\n",
       "      <th>1</th>\n",
       "      <td>Avengers: Endgame (2019)</td>\n",
       "      <td>858373000</td>\n",
       "      <td>1939128328</td>\n",
       "      <td>2797501328</td>\n",
       "      <td>30</td>\n",
       "    </tr>\n",
       "    <tr>\n",
       "      <th>2</th>\n",
       "      <td>Avatar (2009)</td>\n",
       "      <td>760507625</td>\n",
       "      <td>2086738578</td>\n",
       "      <td>2847246203</td>\n",
       "      <td>26</td>\n",
       "    </tr>\n",
       "    <tr>\n",
       "      <th>3</th>\n",
       "      <td>Black Panther (2018)</td>\n",
       "      <td>700426566</td>\n",
       "      <td>647171407</td>\n",
       "      <td>1347597973</td>\n",
       "      <td>51</td>\n",
       "    </tr>\n",
       "    <tr>\n",
       "      <th>4</th>\n",
       "      <td>Avengers: Infinity War (2018)</td>\n",
       "      <td>678815482</td>\n",
       "      <td>1369544272</td>\n",
       "      <td>2048359754</td>\n",
       "      <td>33</td>\n",
       "    </tr>\n",
       "    <tr>\n",
       "      <th>...</th>\n",
       "      <td>...</td>\n",
       "      <td>...</td>\n",
       "      <td>...</td>\n",
       "      <td>...</td>\n",
       "      <td>...</td>\n",
       "    </tr>\n",
       "    <tr>\n",
       "      <th>913</th>\n",
       "      <td>The Notebook (2004)</td>\n",
       "      <td>81001787</td>\n",
       "      <td>36813370</td>\n",
       "      <td>117815157</td>\n",
       "      <td>68</td>\n",
       "    </tr>\n",
       "    <tr>\n",
       "      <th>914</th>\n",
       "      <td>Jimmy Neutron: Boy Genius (2001)</td>\n",
       "      <td>80936232</td>\n",
       "      <td>22056304</td>\n",
       "      <td>102992536</td>\n",
       "      <td>78</td>\n",
       "    </tr>\n",
       "    <tr>\n",
       "      <th>915</th>\n",
       "      <td>Eat Pray Love (2010)</td>\n",
       "      <td>80574010</td>\n",
       "      <td>124020006</td>\n",
       "      <td>204594016</td>\n",
       "      <td>39</td>\n",
       "    </tr>\n",
       "    <tr>\n",
       "      <th>916</th>\n",
       "      <td>The Texas Chainsaw Massacre (2003)</td>\n",
       "      <td>80571655</td>\n",
       "      <td>26792250</td>\n",
       "      <td>107363905</td>\n",
       "      <td>75</td>\n",
       "    </tr>\n",
       "    <tr>\n",
       "      <th>917</th>\n",
       "      <td>Zookeeper (2011)</td>\n",
       "      <td>80360843</td>\n",
       "      <td>89491916</td>\n",
       "      <td>169852759</td>\n",
       "      <td>47</td>\n",
       "    </tr>\n",
       "  </tbody>\n",
       "</table>\n",
       "<p>918 rows × 5 columns</p>\n",
       "</div>"
      ],
      "text/plain": [
       "                                                 Title  Domestic Sales (in $)  \\\n",
       "0    Star Wars: Episode VII - The Force Awakens (2015)              936662225   \n",
       "1                             Avengers: Endgame (2019)              858373000   \n",
       "2                                        Avatar (2009)              760507625   \n",
       "3                                 Black Panther (2018)              700426566   \n",
       "4                        Avengers: Infinity War (2018)              678815482   \n",
       "..                                                 ...                    ...   \n",
       "913                                The Notebook (2004)               81001787   \n",
       "914                   Jimmy Neutron: Boy Genius (2001)               80936232   \n",
       "915                               Eat Pray Love (2010)               80574010   \n",
       "916                 The Texas Chainsaw Massacre (2003)               80571655   \n",
       "917                                   Zookeeper (2011)               80360843   \n",
       "\n",
       "     International Sales (in $)  World Sales (in $)  \\\n",
       "0                    1132859475          2069521700   \n",
       "1                    1939128328          2797501328   \n",
       "2                    2086738578          2847246203   \n",
       "3                     647171407          1347597973   \n",
       "4                    1369544272          2048359754   \n",
       "..                          ...                 ...   \n",
       "913                    36813370           117815157   \n",
       "914                    22056304           102992536   \n",
       "915                   124020006           204594016   \n",
       "916                    26792250           107363905   \n",
       "917                    89491916           169852759   \n",
       "\n",
       "     Proportion of domestic sales(%)  \n",
       "0                                 45  \n",
       "1                                 30  \n",
       "2                                 26  \n",
       "3                                 51  \n",
       "4                                 33  \n",
       "..                               ...  \n",
       "913                               68  \n",
       "914                               78  \n",
       "915                               39  \n",
       "916                               75  \n",
       "917                               47  \n",
       "\n",
       "[918 rows x 5 columns]"
      ]
     },
     "execution_count": 11,
     "metadata": {},
     "output_type": "execute_result"
    }
   ],
   "source": [
    "data_=pd.read_csv('percentage.csv')\n",
    "data_['Proportion of domestic sales(%)']=round((data_['Domestic Sales (in $)']/data_['World Sales (in $)'])*100,2).astype(int)\n",
    "data_"
   ]
  },
  {
   "cell_type": "code",
   "execution_count": 12,
   "metadata": {},
   "outputs": [],
   "source": [
    "#Define#\n",
    "a=0\n",
    "b=0\n",
    "c=0\n",
    "d=0\n",
    "proportion=data_['Proportion of domestic sales(%)']"
   ]
  },
  {
   "cell_type": "code",
   "execution_count": 13,
   "metadata": {},
   "outputs": [
    {
     "data": {
      "text/plain": [
       "0      45\n",
       "1      30\n",
       "2      26\n",
       "3      51\n",
       "4      33\n",
       "       ..\n",
       "913    68\n",
       "914    78\n",
       "915    39\n",
       "916    75\n",
       "917    47\n",
       "Name: Proportion of domestic sales(%), Length: 918, dtype: int32"
      ]
     },
     "execution_count": 13,
     "metadata": {},
     "output_type": "execute_result"
    }
   ],
   "source": [
    "proportion"
   ]
  },
  {
   "cell_type": "code",
   "execution_count": 14,
   "metadata": {},
   "outputs": [],
   "source": [
    "proportion0=[]"
   ]
  },
  {
   "cell_type": "code",
   "execution_count": 15,
   "metadata": {},
   "outputs": [],
   "source": [
    "#Count the number of intervals for each percentage#\n",
    "\n",
    "for i in range(0,len(proportion)):\n",
    "        proportion0.append(int(proportion[i]))"
   ]
  },
  {
   "cell_type": "code",
   "execution_count": 16,
   "metadata": {},
   "outputs": [],
   "source": [
    "a,d,c,d=0,0,0,0"
   ]
  },
  {
   "cell_type": "code",
   "execution_count": 17,
   "metadata": {},
   "outputs": [],
   "source": [
    "for i in proportion0:\n",
    "    if i>70:\n",
    "        a=a+1\n",
    "    elif i> 50:\n",
    "        b=b+1\n",
    "    elif i> 30:\n",
    "        c=c+1\n",
    "    else:\n",
    "        d=d+1"
   ]
  },
  {
   "cell_type": "code",
   "execution_count": 18,
   "metadata": {},
   "outputs": [
    {
     "data": {
      "text/plain": [
       "108"
      ]
     },
     "execution_count": 18,
     "metadata": {},
     "output_type": "execute_result"
    }
   ],
   "source": [
    "d"
   ]
  },
  {
   "cell_type": "code",
   "execution_count": 19,
   "metadata": {},
   "outputs": [],
   "source": [
    "proportion=[a,b,c,d] "
   ]
  },
  {
   "cell_type": "code",
   "execution_count": 20,
   "metadata": {},
   "outputs": [],
   "source": [
    "#Drawing pie charts\n",
    "%matplotlib inline"
   ]
  },
  {
   "cell_type": "code",
   "execution_count": 21,
   "metadata": {},
   "outputs": [
    {
     "data": {
      "image/png": "[encoded data removed]",
      "text/plain": [
       "<Figure size 432x288 with 1 Axes>"
      ]
     },
     "metadata": {},
     "output_type": "display_data"
    }
   ],
   "source": [
    "sizes=[a,b,c,d]\n",
    "labels=['>70%','70%-51%','31%-50%','≤30%']\n",
    "colors = ['lightskyblue', 'lightgray', 'royalblue', 'green']\n",
    "explode = (0.1, 0.1, 0.1, 0.1)\n",
    "shadow=True\n",
    "ax1 = plt.subplots()\n",
    "plt.pie(sizes, explode=explode, labels=labels, colors=colors, autopct='%1.1f%%', shadow=True, startangle = 90)\n",
    "plt.title('Proportion distribution of domestic sales of Highest Holywood Grossing Movies')\n",
    "plt.show()"
   ]
  },
  {
   "cell_type": "code",
   "execution_count": 22,
   "metadata": {},
   "outputs": [],
   "source": [
    "plt.show()"
   ]
  },
  {
   "cell_type": "code",
   "execution_count": 23,
   "metadata": {},
   "outputs": [],
   "source": [
    "#Drawing scatter plot chart\n",
    "x=df['Release Date']\n",
    "y=df['World Sales (in $)']"
   ]
  },
  {
   "cell_type": "code",
   "execution_count": 24,
   "metadata": {},
   "outputs": [
    {
     "data": {
      "image/png": "[encoded data removed]",
      "text/plain": [
       "<Figure size 432x288 with 2 Axes>"
      ]
     },
     "metadata": {
      "needs_background": "light"
     },
     "output_type": "display_data"
    }
   ],
   "source": [
    "plt.scatter(x, y, c=y, cmap='Spectral')\n",
    "plt.colorbar()\n",
    "plt.xticks(np.arange(1970,2022,3))\n",
    "plt.rcParams.update({'figure.figsize':(10,4), 'figure.dpi':100})\n",
    "plt.xlabel('Year of release')\n",
    "plt.ylabel('Total sales(in $)')\n",
    "plt.show()"
   ]
  },
  {
   "cell_type": "code",
   "execution_count": 25,
   "metadata": {},
   "outputs": [
    {
     "ename": "SyntaxError",
     "evalue": "invalid character in identifier (<ipython-input-25-9df06c470e30>, line 2)",
     "output_type": "error",
     "traceback": [
      "\u001b[1;36m  File \u001b[1;32m\"<ipython-input-25-9df06c470e30>\"\u001b[1;36m, line \u001b[1;32m2\u001b[0m\n\u001b[1;33m    sns.lmplot(x='Release Date'，y='World Sales (in $)', data=df)\u001b[0m\n\u001b[1;37m                                ^\u001b[0m\n\u001b[1;31mSyntaxError\u001b[0m\u001b[1;31m:\u001b[0m invalid character in identifier\n"
     ]
    }
   ],
   "source": [
    "plt.rcParams.update({'figure.figsize':(10,8), 'figure.dpi':100})\n",
    "sns.lmplot(x='Release Date'，y='World Sales (in $)', data=df)\n",
    "plt.title(\"Scatter Plot with Linear fit\");"
   ]
  },
  {
   "cell_type": "code",
   "execution_count": 27,
   "metadata": {},
   "outputs": [],
   "source": [
    "df['Genre_Action'] = ''\n",
    "df['Genre_Adventure'] = ''\n",
    "df['Genre_Sci-Fi'] = ''\n",
    "df['Genre_Drama'] = ''\n",
    "df['Genre_Fantasy'] = ''\n",
    "df['Genre_Crime'] = ''\n",
    "df['Genre_Comedy'] = ''\n",
    "df['Genre_Romance'] = ''\n",
    "df['Genre_Animation'] = ''\n",
    "df['Genre_Thriller'] = ''\n",
    "df['Genre_Musical'] = ''\n",
    "df['Genre_Biography'] = ''\n",
    "df['Genre_Horror'] = ''\n",
    "df['Genre_Mystery'] = ''\n",
    "df['Genre_Family'] = ''"
   ]
  },
  {
   "cell_type": "code",
   "execution_count": 39,
   "metadata": {},
   "outputs": [
    {
     "name": "stderr",
     "output_type": "stream",
     "text": [
      "C:\\Users\\59455\\anaconda3\\lib\\site-packages\\ipykernel_launcher.py:3: SettingWithCopyWarning:\n",
      "\n",
      "\n",
      "A value is trying to be set on a copy of a slice from a DataFrame\n",
      "\n",
      "See the caveats in the documentation: https://pandas.pydata.org/pandas-docs/stable/user_guide/indexing.html#returning-a-view-versus-a-copy\n",
      "\n",
      "C:\\Users\\59455\\anaconda3\\lib\\site-packages\\ipykernel_launcher.py:6: SettingWithCopyWarning:\n",
      "\n",
      "\n",
      "A value is trying to be set on a copy of a slice from a DataFrame\n",
      "\n",
      "See the caveats in the documentation: https://pandas.pydata.org/pandas-docs/stable/user_guide/indexing.html#returning-a-view-versus-a-copy\n",
      "\n",
      "C:\\Users\\59455\\anaconda3\\lib\\site-packages\\ipykernel_launcher.py:9: SettingWithCopyWarning:\n",
      "\n",
      "\n",
      "A value is trying to be set on a copy of a slice from a DataFrame\n",
      "\n",
      "See the caveats in the documentation: https://pandas.pydata.org/pandas-docs/stable/user_guide/indexing.html#returning-a-view-versus-a-copy\n",
      "\n",
      "C:\\Users\\59455\\anaconda3\\lib\\site-packages\\ipykernel_launcher.py:12: SettingWithCopyWarning:\n",
      "\n",
      "\n",
      "A value is trying to be set on a copy of a slice from a DataFrame\n",
      "\n",
      "See the caveats in the documentation: https://pandas.pydata.org/pandas-docs/stable/user_guide/indexing.html#returning-a-view-versus-a-copy\n",
      "\n",
      "C:\\Users\\59455\\anaconda3\\lib\\site-packages\\ipykernel_launcher.py:15: SettingWithCopyWarning:\n",
      "\n",
      "\n",
      "A value is trying to be set on a copy of a slice from a DataFrame\n",
      "\n",
      "See the caveats in the documentation: https://pandas.pydata.org/pandas-docs/stable/user_guide/indexing.html#returning-a-view-versus-a-copy\n",
      "\n",
      "C:\\Users\\59455\\anaconda3\\lib\\site-packages\\ipykernel_launcher.py:24: SettingWithCopyWarning:\n",
      "\n",
      "\n",
      "A value is trying to be set on a copy of a slice from a DataFrame\n",
      "\n",
      "See the caveats in the documentation: https://pandas.pydata.org/pandas-docs/stable/user_guide/indexing.html#returning-a-view-versus-a-copy\n",
      "\n",
      "C:\\Users\\59455\\anaconda3\\lib\\site-packages\\ipykernel_launcher.py:21: SettingWithCopyWarning:\n",
      "\n",
      "\n",
      "A value is trying to be set on a copy of a slice from a DataFrame\n",
      "\n",
      "See the caveats in the documentation: https://pandas.pydata.org/pandas-docs/stable/user_guide/indexing.html#returning-a-view-versus-a-copy\n",
      "\n",
      "C:\\Users\\59455\\anaconda3\\lib\\site-packages\\ipykernel_launcher.py:27: SettingWithCopyWarning:\n",
      "\n",
      "\n",
      "A value is trying to be set on a copy of a slice from a DataFrame\n",
      "\n",
      "See the caveats in the documentation: https://pandas.pydata.org/pandas-docs/stable/user_guide/indexing.html#returning-a-view-versus-a-copy\n",
      "\n",
      "C:\\Users\\59455\\anaconda3\\lib\\site-packages\\ipykernel_launcher.py:45: SettingWithCopyWarning:\n",
      "\n",
      "\n",
      "A value is trying to be set on a copy of a slice from a DataFrame\n",
      "\n",
      "See the caveats in the documentation: https://pandas.pydata.org/pandas-docs/stable/user_guide/indexing.html#returning-a-view-versus-a-copy\n",
      "\n",
      "C:\\Users\\59455\\anaconda3\\lib\\site-packages\\ipykernel_launcher.py:33: SettingWithCopyWarning:\n",
      "\n",
      "\n",
      "A value is trying to be set on a copy of a slice from a DataFrame\n",
      "\n",
      "See the caveats in the documentation: https://pandas.pydata.org/pandas-docs/stable/user_guide/indexing.html#returning-a-view-versus-a-copy\n",
      "\n",
      "C:\\Users\\59455\\anaconda3\\lib\\site-packages\\ipykernel_launcher.py:18: SettingWithCopyWarning:\n",
      "\n",
      "\n",
      "A value is trying to be set on a copy of a slice from a DataFrame\n",
      "\n",
      "See the caveats in the documentation: https://pandas.pydata.org/pandas-docs/stable/user_guide/indexing.html#returning-a-view-versus-a-copy\n",
      "\n",
      "C:\\Users\\59455\\anaconda3\\lib\\site-packages\\ipykernel_launcher.py:30: SettingWithCopyWarning:\n",
      "\n",
      "\n",
      "A value is trying to be set on a copy of a slice from a DataFrame\n",
      "\n",
      "See the caveats in the documentation: https://pandas.pydata.org/pandas-docs/stable/user_guide/indexing.html#returning-a-view-versus-a-copy\n",
      "\n",
      "C:\\Users\\59455\\anaconda3\\lib\\site-packages\\ipykernel_launcher.py:42: SettingWithCopyWarning:\n",
      "\n",
      "\n",
      "A value is trying to be set on a copy of a slice from a DataFrame\n",
      "\n",
      "See the caveats in the documentation: https://pandas.pydata.org/pandas-docs/stable/user_guide/indexing.html#returning-a-view-versus-a-copy\n",
      "\n",
      "C:\\Users\\59455\\anaconda3\\lib\\site-packages\\ipykernel_launcher.py:36: SettingWithCopyWarning:\n",
      "\n",
      "\n",
      "A value is trying to be set on a copy of a slice from a DataFrame\n",
      "\n",
      "See the caveats in the documentation: https://pandas.pydata.org/pandas-docs/stable/user_guide/indexing.html#returning-a-view-versus-a-copy\n",
      "\n",
      "C:\\Users\\59455\\anaconda3\\lib\\site-packages\\ipykernel_launcher.py:39: SettingWithCopyWarning:\n",
      "\n",
      "\n",
      "A value is trying to be set on a copy of a slice from a DataFrame\n",
      "\n",
      "See the caveats in the documentation: https://pandas.pydata.org/pandas-docs/stable/user_guide/indexing.html#returning-a-view-versus-a-copy\n",
      "\n"
     ]
    }
   ],
   "source": [
    "for i in range(len(df['Genre'])):\n",
    "    if df['Genre'][i].__contains__(\"Action\"):\n",
    "        df['Genre_Action'][i]=\"Action\"\n",
    "        \n",
    "    if df['Genre'][i].__contains__(\"Adventure\"):\n",
    "        df['Genre_Adventure'][i]=\"Adventure\"\n",
    "        \n",
    "    if df['Genre'][i].__contains__(\"Sci-Fi\"):\n",
    "        df['Genre_Sci-Fi'][i]=\"Sci-Fi\"\n",
    "        \n",
    "    if df['Genre'][i].__contains__(\"Drama\"):\n",
    "        df['Genre_Drama'][i]=\"Drama\"\n",
    "    \n",
    "    if df['Genre'][i].__contains__(\"Fantasy\"):\n",
    "        df['Genre_Fantasy'][i]=\"Fantasy\"\n",
    "    \n",
    "    if df['Genre'][i].__contains__(\"Crime\"):\n",
    "        df['Genre_Crime'][i]=\"Crime\"\n",
    "    \n",
    "    if df['Genre'][i].__contains__(\"Comedy\"):\n",
    "        df['Genre_Comedy'][i]=\"Comedy\"\n",
    "    \n",
    "    if df['Genre'][i].__contains__(\"Romance\"):\n",
    "        df['Genre_Romance'][i]=\"Romance\"\n",
    "    \n",
    "    if df['Genre'][i].__contains__(\"Animation\"):\n",
    "        df['Genre_Animation'][i]=\"Animation\"\n",
    "    \n",
    "    if df['Genre'][i].__contains__(\"Thriller\"):\n",
    "        df['Genre_Thriller'][i]=\"Thriller\"\n",
    "        \n",
    "    if df['Genre'][i].__contains__(\"Musical\"):\n",
    "        df['Genre_Musical'][i]=\"Musical\"\n",
    "        \n",
    "    if df['Genre'][i].__contains__(\"Biography\"):\n",
    "        df['Genre_Biography'][i]=\"Biography\"\n",
    "        \n",
    "    if df['Genre'][i].__contains__(\"Horror\"):\n",
    "        df['Genre_Horror'][i]=\"Horror\"\n",
    "        \n",
    "    if df['Genre'][i].__contains__(\"Mystery\"):\n",
    "        df['Genre_Mystery'][i]=\"Mystery\"\n",
    "        \n",
    "    if df['Genre'][i].__contains__(\"Family\"):\n",
    "        df['Genre_Family'][i]=\"Family\"\n",
    "        "
   ]
  },
  {
   "cell_type": "code",
   "execution_count": 43,
   "metadata": {},
   "outputs": [],
   "source": [
    "df_1 = df.drop(columns = ['Genre'])"
   ]
  },
  {
   "cell_type": "code",
   "execution_count": 49,
   "metadata": {},
   "outputs": [
    {
     "data": {
      "application/vnd.plotly.v1+json": {
       "config": {
        "plotlyServerURL": "https://plot.ly"
       },
       "data": [
        {
         "alignmentgroup": "True",
         "hovertemplate": "Genre=%{x}<br>Average Sale For Each Genre=%{y}<extra></extra>",
         "legendgroup": "",
         "marker": {
          "color": "#636efa",
          "pattern": {
           "shape": ""
          }
         },
         "name": "",
         "offsetgroup": "",
         "orientation": "v",
         "showlegend": false,
         "textposition": "auto",
         "type": "bar",
         "x": [
          "['Action', 'Adventure', 'Animation', 'Comedy', 'Drama', 'Family', 'Fantasy']",
          "['Action', 'Adventure', 'Animation', 'Comedy', 'Family', 'Fantasy', 'Sci-Fi']",
          "['Action', 'Adventure', 'Animation', 'Comedy', 'Family', 'Fantasy']",
          "['Action', 'Adventure', 'Animation', 'Comedy', 'Family', 'Sci-Fi']",
          "['Action', 'Adventure', 'Animation', 'Comedy', 'Family', 'Western']",
          "['Action', 'Adventure', 'Animation', 'Comedy', 'Family']",
          "['Action', 'Adventure', 'Animation', 'Comedy', 'Sci-Fi']",
          "['Action', 'Adventure', 'Animation', 'Family', 'Fantasy', 'Mystery']",
          "['Action', 'Adventure', 'Animation', 'Family', 'Fantasy', 'Sci-Fi']",
          "['Action', 'Adventure', 'Animation', 'Family']",
          "['Action', 'Adventure', 'Animation', 'Fantasy']",
          "['Action', 'Adventure', 'Comedy', 'Crime', 'Family', 'Sci-Fi']",
          "['Action', 'Adventure', 'Comedy', 'Crime', 'Thriller']",
          "['Action', 'Adventure', 'Comedy', 'Crime']",
          "['Action', 'Adventure', 'Comedy', 'Family', 'Fantasy', 'Sci-Fi']",
          "['Action', 'Adventure', 'Comedy', 'Family', 'Mystery', 'Sci-Fi']",
          "['Action', 'Adventure', 'Comedy', 'Family', 'Romance']",
          "['Action', 'Adventure', 'Comedy', 'Family', 'Sci-Fi']",
          "['Action', 'Adventure', 'Comedy', 'Fantasy', 'Sci-Fi']",
          "['Action', 'Adventure', 'Comedy', 'Fantasy']",
          "['Action', 'Adventure', 'Comedy', 'Mystery', 'Sci-Fi']",
          "['Action', 'Adventure', 'Comedy', 'Romance', 'Thriller', 'Western']",
          "['Action', 'Adventure', 'Comedy', 'Sci-Fi']",
          "['Action', 'Adventure', 'Comedy', 'Thriller', 'Western']",
          "['Action', 'Adventure', 'Comedy', 'Thriller']",
          "['Action', 'Adventure', 'Comedy']",
          "['Action', 'Adventure', 'Crime', 'Thriller']",
          "['Action', 'Adventure', 'Drama', 'Fantasy', 'History']",
          "['Action', 'Adventure', 'Drama', 'Fantasy', 'Romance', 'Thriller']",
          "['Action', 'Adventure', 'Drama', 'Fantasy', 'Romance']",
          "['Action', 'Adventure', 'Drama', 'Fantasy']",
          "['Action', 'Adventure', 'Drama', 'History', 'Western']",
          "['Action', 'Adventure', 'Drama', 'History']",
          "['Action', 'Adventure', 'Drama', 'Romance']",
          "['Action', 'Adventure', 'Drama', 'Sci-Fi', 'Thriller']",
          "['Action', 'Adventure', 'Drama', 'Sci-Fi']",
          "['Action', 'Adventure', 'Drama', 'Thriller']",
          "['Action', 'Adventure', 'Drama', 'War']",
          "['Action', 'Adventure', 'Drama']",
          "['Action', 'Adventure', 'Family', 'Fantasy', 'Mystery', 'Sci-Fi']",
          "['Action', 'Adventure', 'Family', 'Fantasy', 'Mystery']",
          "['Action', 'Adventure', 'Family', 'Fantasy', 'Sci-Fi']",
          "['Action', 'Adventure', 'Family', 'Fantasy']",
          "['Action', 'Adventure', 'Fantasy', 'Sci-Fi', 'War']",
          "['Action', 'Adventure', 'Fantasy', 'Sci-Fi']",
          "['Action', 'Adventure', 'Fantasy', 'Thriller']",
          "['Action', 'Adventure', 'Fantasy']",
          "['Action', 'Adventure', 'Horror', 'Sci-Fi']",
          "['Action', 'Adventure', 'Mystery', 'Sci-Fi']",
          "['Action', 'Adventure', 'Mystery', 'Thriller']",
          "['Action', 'Adventure', 'Mystery']",
          "['Action', 'Adventure', 'Sci-Fi', 'Thriller']",
          "['Action', 'Adventure', 'Sci-Fi']",
          "['Action', 'Adventure', 'Thriller']",
          "['Action', 'Adventure', 'Western']",
          "['Action', 'Adventure']",
          "['Action', 'Animation', 'Comedy', 'Crime', 'Family', 'Mystery', 'Sci-Fi', 'Thriller']",
          "['Action', 'Biography', 'Crime', 'Drama', 'History']",
          "['Action', 'Biography', 'Crime', 'Drama', 'Thriller']",
          "['Action', 'Biography', 'Drama', 'Sport', 'War']",
          "['Action', 'Biography', 'Drama', 'Sport']",
          "['Action', 'Biography', 'Drama', 'War']",
          "['Action', 'Comedy', 'Crime', 'Family']",
          "['Action', 'Comedy', 'Crime', 'Fantasy']",
          "['Action', 'Comedy', 'Crime', 'Music', 'Romance', 'Thriller']",
          "['Action', 'Comedy', 'Crime', 'Romance']",
          "['Action', 'Comedy', 'Crime', 'Thriller']",
          "['Action', 'Comedy', 'Crime']",
          "['Action', 'Comedy', 'Documentary']",
          "['Action', 'Comedy', 'Drama', 'Family']",
          "['Action', 'Comedy', 'Family', 'Fantasy']",
          "['Action', 'Comedy', 'Fantasy', 'Sci-Fi']",
          "['Action', 'Comedy', 'Sci-Fi', 'Western']",
          "['Action', 'Comedy', 'Thriller']",
          "['Action', 'Comedy', 'War']",
          "['Action', 'Comedy']",
          "['Action', 'Crime', 'Drama', 'Music', 'Thriller']",
          "['Action', 'Crime', 'Drama', 'Mystery', 'Thriller']",
          "['Action', 'Crime', 'Drama', 'Thriller']",
          "['Action', 'Crime', 'Drama']",
          "['Action', 'Crime', 'Fantasy']",
          "['Action', 'Crime', 'Mystery', 'Sci-Fi', 'Thriller']",
          "['Action', 'Crime', 'Romance', 'Thriller']",
          "['Action', 'Crime', 'Sci-Fi', 'Thriller']",
          "['Action', 'Crime', 'Thriller']",
          "['Action', 'Crime']",
          "['Action', 'Drama', 'Family', 'Sport']",
          "['Action', 'Drama', 'Fantasy', 'Romance']",
          "['Action', 'Drama', 'Fantasy']",
          "['Action', 'Drama', 'History', 'Romance', 'War']",
          "['Action', 'Drama', 'History', 'Thriller', 'War']",
          "['Action', 'Drama', 'History', 'War']",
          "['Action', 'Drama', 'Music', 'Romance', 'Thriller']",
          "['Action', 'Drama', 'Mystery', 'Sci-Fi', 'Thriller']",
          "['Action', 'Drama', 'Mystery', 'Sci-Fi']",
          "['Action', 'Drama', 'Sci-Fi', 'Sport']",
          "['Action', 'Drama', 'Sci-Fi', 'Thriller']",
          "['Action', 'Drama', 'Sci-Fi']",
          "['Action', 'Drama', 'Sport']",
          "['Action', 'Drama', 'Thriller', 'War']",
          "['Action', 'Drama', 'Thriller']",
          "['Action', 'Drama', 'War']",
          "['Action', 'Drama']",
          "['Action', 'Fantasy', 'Horror', 'War']",
          "['Action', 'Fantasy', 'Thriller']",
          "['Action', 'Horror', 'Sci-Fi', 'Thriller']",
          "['Action', 'Horror']",
          "['Action', 'Mystery', 'Sci-Fi', 'Thriller']",
          "['Action', 'Mystery', 'Thriller']",
          "['Action', 'Sci-Fi', 'Thriller', 'Western']",
          "['Action', 'Sci-Fi', 'Thriller']",
          "['Action', 'Sci-Fi']",
          "['Action', 'Thriller']",
          "['Adventure', 'Animation', 'Comedy', 'Crime', 'Drama', 'Family', 'Fantasy']",
          "['Adventure', 'Animation', 'Comedy', 'Crime', 'Drama', 'Family', 'Sci-Fi']",
          "['Adventure', 'Animation', 'Comedy', 'Crime', 'Family', 'Fantasy', 'Mystery']",
          "['Adventure', 'Animation', 'Comedy', 'Crime', 'Family', 'Mystery']",
          "['Adventure', 'Animation', 'Comedy', 'Crime', 'Family', 'Sci-Fi']",
          "['Adventure', 'Animation', 'Comedy', 'Drama', 'Family', 'Fantasy', 'Music', 'Musical']",
          "['Adventure', 'Animation', 'Comedy', 'Drama', 'Family', 'Fantasy', 'Music']",
          "['Adventure', 'Animation', 'Comedy', 'Drama', 'Family', 'Fantasy', 'Musical']",
          "['Adventure', 'Animation', 'Comedy', 'Drama', 'Family', 'Fantasy', 'Sci-Fi']",
          "['Adventure', 'Animation', 'Comedy', 'Drama', 'Family', 'Fantasy']",
          "['Adventure', 'Animation', 'Comedy', 'Drama', 'Family', 'Music']",
          "['Adventure', 'Animation', 'Comedy', 'Drama', 'Family', 'Musical']",
          "['Adventure', 'Animation', 'Comedy', 'Drama', 'Family']",
          "['Adventure', 'Animation', 'Comedy', 'Family', 'Fantasy', 'History', 'Sci-Fi']",
          "['Adventure', 'Animation', 'Comedy', 'Family', 'Fantasy', 'Horror']",
          "['Adventure', 'Animation', 'Comedy', 'Family', 'Fantasy', 'Music', 'Musical']",
          "['Adventure', 'Animation', 'Comedy', 'Family', 'Fantasy', 'Music', 'Mystery']",
          "['Adventure', 'Animation', 'Comedy', 'Family', 'Fantasy', 'Musical', 'Romance']",
          "['Adventure', 'Animation', 'Comedy', 'Family', 'Fantasy', 'Musical']",
          "['Adventure', 'Animation', 'Comedy', 'Family', 'Fantasy', 'Romance']",
          "['Adventure', 'Animation', 'Comedy', 'Family', 'Fantasy', 'Sci-Fi', 'Sport']",
          "['Adventure', 'Animation', 'Comedy', 'Family', 'Fantasy', 'Sci-Fi']",
          "['Adventure', 'Animation', 'Comedy', 'Family', 'Fantasy']",
          "['Adventure', 'Animation', 'Comedy', 'Family', 'Music', 'Musical', 'Romance']",
          "['Adventure', 'Animation', 'Comedy', 'Family', 'Music', 'Musical']",
          "['Adventure', 'Animation', 'Comedy', 'Family', 'Musical', 'Romance']",
          "['Adventure', 'Animation', 'Comedy', 'Family', 'Romance', 'Sci-Fi']",
          "['Adventure', 'Animation', 'Comedy', 'Family', 'Sci-Fi']",
          "['Adventure', 'Animation', 'Comedy', 'Family', 'Sport']",
          "['Adventure', 'Animation', 'Comedy', 'Family', 'Thriller']",
          "['Adventure', 'Animation', 'Comedy', 'Family']",
          "['Adventure', 'Animation', 'Comedy', 'Fantasy']",
          "['Adventure', 'Animation', 'Comedy']",
          "['Adventure', 'Animation', 'Drama', 'Family', 'Fantasy', 'Musical']",
          "['Adventure', 'Animation', 'Drama', 'Family', 'Fantasy']",
          "['Adventure', 'Animation', 'Drama', 'Family', 'Musical', 'Romance']",
          "['Adventure', 'Animation', 'Drama', 'Family', 'Musical']",
          "['Adventure', 'Animation', 'Family', 'Fantasy', 'Musical', 'Romance']",
          "['Adventure', 'Animation', 'Family', 'Fantasy', 'Musical']",
          "['Adventure', 'Animation', 'Family', 'Sci-Fi']",
          "['Adventure', 'Comedy', 'Crime', 'Drama']",
          "['Adventure', 'Comedy', 'Crime', 'Family']",
          "['Adventure', 'Comedy', 'Crime', 'Mystery']",
          "['Adventure', 'Comedy', 'Crime']",
          "['Adventure', 'Comedy', 'Drama', 'Family', 'Romance']",
          "['Adventure', 'Comedy', 'Drama', 'Fantasy', 'Musical']",
          "['Adventure', 'Comedy', 'Drama']",
          "['Adventure', 'Comedy', 'Family', 'Fantasy', 'Horror', 'Mystery', 'Sci-Fi']",
          "['Adventure', 'Comedy', 'Family', 'Fantasy', 'Musical', 'Romance']",
          "['Adventure', 'Comedy', 'Family', 'Fantasy', 'Musical']",
          "['Adventure', 'Comedy', 'Family', 'Fantasy', 'Mystery']",
          "['Adventure', 'Comedy', 'Family', 'Fantasy', 'Romance', 'Sci-Fi']",
          "['Adventure', 'Comedy', 'Family', 'Fantasy', 'Romance']",
          "['Adventure', 'Comedy', 'Family', 'Fantasy']",
          "['Adventure', 'Comedy', 'Family', 'Musical']",
          "['Adventure', 'Comedy', 'Family', 'Sport']",
          "['Adventure', 'Comedy', 'Family']",
          "['Adventure', 'Comedy', 'Fantasy', 'Sci-Fi']",
          "['Adventure', 'Comedy', 'Sci-Fi', 'Western']",
          "['Adventure', 'Comedy', 'Sci-Fi']",
          "['Adventure', 'Comedy']",
          "['Adventure', 'Drama', 'Family', 'Fantasy', 'Romance']",
          "['Adventure', 'Drama', 'Family', 'Fantasy', 'Thriller']",
          "['Adventure', 'Drama', 'Family', 'Fantasy']",
          "['Adventure', 'Drama', 'Family']",
          "['Adventure', 'Drama', 'Fantasy', 'Romance', 'Thriller']",
          "['Adventure', 'Drama', 'Fantasy', 'Romance']",
          "['Adventure', 'Drama', 'Fantasy']",
          "['Adventure', 'Drama', 'History', 'Romance', 'War']",
          "['Adventure', 'Drama', 'History']",
          "['Adventure', 'Drama', 'Romance']",
          "['Adventure', 'Drama', 'Sci-Fi']",
          "['Adventure', 'Drama', 'War']",
          "['Adventure', 'Drama', 'Western']",
          "['Adventure', 'Family', 'Fantasy', 'Musical', 'Romance']",
          "['Adventure', 'Family', 'Fantasy', 'Mystery']",
          "['Adventure', 'Family', 'Fantasy', 'Romance']",
          "['Adventure', 'Family', 'Fantasy', 'Sci-Fi']",
          "['Adventure', 'Family', 'Fantasy']",
          "['Adventure', 'Family', 'Sci-Fi']",
          "['Adventure', 'Fantasy', 'Mystery']",
          "['Adventure', 'Fantasy']",
          "['Adventure', 'Mystery', 'Sci-Fi']",
          "['Adventure', 'Thriller']",
          "['Animation', 'Comedy', 'Drama', 'Family', 'Fantasy', 'Musical']",
          "['Animation', 'Comedy', 'Family', 'Fantasy', 'Horror']",
          "['Animation', 'Comedy', 'Family', 'Musical']",
          "['Animation', 'Drama', 'Family', 'Musical', 'Romance']",
          "['Animation', 'Family', 'Fantasy', 'Musical', 'Romance']",
          "['Biography', 'Comedy', 'Crime', 'Drama']",
          "['Biography', 'Comedy', 'Drama', 'Music']",
          "['Biography', 'Comedy', 'Drama', 'Romance']",
          "['Biography', 'Comedy', 'Drama']",
          "['Biography', 'Crime', 'Drama']",
          "['Biography', 'Drama', 'Family', 'Music']",
          "['Biography', 'Drama', 'Family']",
          "['Biography', 'Drama', 'History', 'Music']",
          "['Biography', 'Drama', 'History', 'War']",
          "['Biography', 'Drama', 'History']",
          "['Biography', 'Drama', 'Music', 'Romance']",
          "['Biography', 'Drama', 'Music']",
          "['Biography', 'Drama', 'Musical']",
          "['Biography', 'Drama', 'Romance']",
          "['Biography', 'Drama', 'Sport']",
          "['Biography', 'Drama', 'Thriller', 'War']",
          "['Biography', 'Drama', 'Thriller']",
          "['Biography', 'Drama']",
          "['Comedy', 'Crime', 'Drama', 'Mystery', 'Thriller']",
          "['Comedy', 'Crime', 'Drama']",
          "['Comedy', 'Crime', 'Musical']",
          "['Comedy', 'Crime', 'Romance', 'Thriller']",
          "['Comedy', 'Crime', 'Sport']",
          "['Comedy', 'Crime']",
          "['Comedy', 'Drama', 'Family', 'Fantasy']",
          "['Comedy', 'Drama', 'Family', 'Music', 'Musical', 'Romance']",
          "['Comedy', 'Drama', 'Family', 'Musical']",
          "['Comedy', 'Drama', 'Family']",
          "['Comedy', 'Drama', 'Fantasy', 'Romance']",
          "['Comedy', 'Drama', 'Fantasy']",
          "['Comedy', 'Drama', 'History', 'Romance']",
          "['Comedy', 'Drama', 'Music', 'Musical', 'Romance']",
          "['Comedy', 'Drama', 'Musical', 'Romance']",
          "['Comedy', 'Drama', 'Romance', 'Sport']",
          "['Comedy', 'Drama', 'Romance']",
          "['Comedy', 'Drama', 'Sport']",
          "['Comedy', 'Drama', 'War']",
          "['Comedy', 'Drama']",
          "['Comedy', 'Family', 'Fantasy', 'Music', 'Romance']",
          "['Comedy', 'Family', 'Fantasy', 'Romance']",
          "['Comedy', 'Family', 'Fantasy']",
          "['Comedy', 'Family', 'Music']",
          "['Comedy', 'Family', 'Romance']",
          "['Comedy', 'Family', 'Sci-Fi']",
          "['Comedy', 'Family', 'Sport']",
          "['Comedy', 'Family']",
          "['Comedy', 'Fantasy', 'Romance']",
          "['Comedy', 'Fantasy']",
          "['Comedy', 'Music']",
          "['Comedy', 'Musical', 'Romance']",
          "['Comedy', 'Romance', 'Sci-Fi']",
          "['Comedy', 'Romance']",
          "['Comedy', 'Sport']",
          "['Comedy', 'War']",
          "['Comedy', 'Western']",
          "['Comedy']",
          "['Crime', 'Drama', 'Fantasy', 'Mystery']",
          "['Crime', 'Drama', 'History', 'Thriller']",
          "['Crime', 'Drama', 'Horror', 'Thriller']",
          "['Crime', 'Drama', 'Mystery', 'Thriller']",
          "['Crime', 'Drama', 'Mystery']",
          "['Crime', 'Drama', 'Thriller']",
          "['Crime', 'Drama']",
          "['Crime', 'Horror', 'Thriller']",
          "['Crime', 'Horror']",
          "['Crime', 'Mystery', 'Thriller']",
          "['Crime', 'Thriller']",
          "['Documentary', 'Drama', 'War']",
          "['Drama', 'Family', 'Fantasy']",
          "['Drama', 'Family']",
          "['Drama', 'Fantasy', 'Horror', 'Romance']",
          "['Drama', 'Fantasy', 'Horror']",
          "['Drama', 'Fantasy', 'Romance', 'Sci-Fi']",
          "['Drama', 'Fantasy', 'Romance', 'Thriller']",
          "['Drama', 'Fantasy', 'Romance']",
          "['Drama', 'History', 'Sport']",
          "['Drama', 'History', 'Thriller', 'War']",
          "['Drama', 'History']",
          "['Drama', 'Horror', 'Mystery', 'Thriller']",
          "['Drama', 'Horror', 'Sci-Fi', 'Thriller']",
          "['Drama', 'Horror', 'Sci-Fi']",
          "['Drama', 'Music', 'Musical']",
          "['Drama', 'Music', 'Romance']",
          "['Drama', 'Music']",
          "['Drama', 'Musical', 'Romance']",
          "['Drama', 'Mystery', 'Sci-Fi', 'Thriller']",
          "['Drama', 'Mystery', 'Thriller']",
          "['Drama', 'Mystery', 'War']",
          "['Drama', 'Romance', 'Sci-Fi', 'Thriller']",
          "['Drama', 'Romance', 'Thriller']",
          "['Drama', 'Romance']",
          "['Drama', 'Sci-Fi', 'Thriller']",
          "['Drama', 'Sci-Fi']",
          "['Drama', 'Sport']",
          "['Drama', 'Thriller']",
          "['Drama', 'War']",
          "['Drama', 'Western']",
          "['Drama']",
          "['Fantasy', 'Horror', 'Mystery', 'Thriller']",
          "['Fantasy', 'Horror', 'Mystery']",
          "['Fantasy', 'Mystery', 'Romance', 'Sci-Fi', 'Thriller']",
          "['Horror', 'Mystery', 'Thriller']",
          "['Horror', 'Mystery']",
          "['Horror', 'Sci-Fi']",
          "['Horror', 'Thriller']",
          "['Horror']",
          "['Mystery', 'Thriller']"
         ],
         "xaxis": "x",
         "y": [
          306941670,
          365975935,
          576569229.3333334,
          667983822,
          245724603,
          352333929,
          485004754,
          268426634,
          174849193.5,
          631607053,
          196393745,
          134403112,
          337504103.5,
          267497494.5,
          335260290,
          433514834,
          174463257,
          166681282.75,
          592743834,
          587365938.5,
          445135288,
          250288523,
          566935970.9090909,
          183031272,
          414351546,
          242155440,
          207725639,
          269784201,
          698491347,
          285113046.5,
          846952227,
          532950503,
          321669741,
          473700143,
          553100990.75,
          1597272859,
          242913094.5,
          211622535,
          412290423,
          209035668,
          938313246,
          244232688,
          369689724.5,
          822824522,
          806326588.2380953,
          339380627.3333333,
          612021693.4166666,
          540455876,
          220453959.5,
          403377283.5,
          533938548.5,
          513003075.3636364,
          741471588.1964285,
          483093391.39285713,
          211431375.5,
          455989081.8333333,
          321885765,
          214104620,
          218791811,
          161459297,
          177349539.5,
          351114642,
          183348429,
          351583407,
          162738726,
          212742720,
          316750191.5,
          189411912.33333334,
          171685792,
          198636868,
          200687492,
          262863153,
          222104681,
          378882411,
          195702963,
          235666219,
          226945087,
          368875760,
          356144915.2,
          727402279,
          266892996,
          358372926,
          212404396,
          245676146,
          363420533.04347825,
          179179718,
          359126022,
          226904017,
          629443428,
          449220945,
          527016307,
          194141996.5,
          411006740,
          259334548,
          185382813,
          299268508,
          551809648.8,
          286140700,
          173567581,
          175654283.5,
          315156409,
          298371043,
          416091831.6666667,
          403449830,
          228738393,
          342724155,
          116632628,
          320516581.6666667,
          306079554.5,
          174822325,
          384868305.2,
          404059509.72727275,
          329299737,
          351496066,
          309979994,
          329803958,
          1024121104,
          927031195.75,
          404246275.5,
          298572799,
          281440209.5,
          363731455.8,
          261515511.5,
          448191819,
          140894675,
          332681382,
          275698039,
          501885240,
          288747035.5,
          807817888,
          383937270.5,
          840491158.8,
          745645584.25,
          230418342,
          351850741.5,
          512502464.2352941,
          384336108,
          391772450,
          93933394,
          262511490,
          373515621,
          385520862.6,
          374583879,
          655762114.6153846,
          140705322,
          536414293,
          218613188,
          349822765,
          346079773,
          1363255622,
          184925486,
          87404651,
          521311890,
          233274812,
          358994850,
          164115897,
          212385533,
          149292488,
          212902372,
          157962430.5,
          181216833,
          1050693953,
          412257452.5,
          275650703,
          212874864,
          160886199.5,
          281976488.4,
          165184237,
          115035090,
          130154568,
          191378330,
          245077583,
          357203382,
          111037232,
          542358331,
          296482446,
          966554929,
          120455994,
          712205856,
          770386567.5,
          609016565,
          173013509,
          355237933,
          429632142,
          665945827,
          321457747,
          424208848,
          1273576220,
          915230784.8,
          758411779,
          132675864,
          579026228.1111112,
          792910554,
          1342321665,
          979397982,
          242979584,
          471411300,
          216222015,
          281079724,
          634208384,
          325338851,
          424967620,
          392000694,
          321752656,
          202292902,
          117867984,
          310934871,
          86086881,
          101982712,
          201634991,
          275293450,
          328497486.6666667,
          186797986,
          910809311,
          316135017,
          167067269,
          181150231,
          233555708,
          232325503,
          239557663,
          311605581,
          140678981.33333334,
          306776732,
          152263880,
          191466556,
          200991701,
          190539357,
          252909177,
          136853506,
          288270082.6666667,
          240685326,
          119718203,
          289317794,
          448906865,
          203553311,
          273552592,
          240223482.95652175,
          132440069,
          81600000,
          216665394.36363637,
          160846332,
          169852759,
          256141310.2857143,
          231605150,
          150034817,
          177977226,
          147880543,
          268610827.25,
          374111707,
          326268638.3333333,
          196684434.25,
          469927768.6666667,
          220150454.5,
          235247383.86666667,
          165871828.75,
          85297000,
          179033791,
          218460183.17142856,
          286801374,
          159808370,
          272742922,
          192872556,
          352794081,
          283842375.54545456,
          237073851.66666666,
          206687971.5,
          107363905,
          351723989,
          374924684.6666667,
          222446882,
          137587063,
          306209289,
          215862692,
          348378918,
          152036382,
          505703557,
          372116600.5,
          148336445,
          167183116.5,
          497409852,
          291420351,
          297372261,
          340952971,
          155430335,
          283947837.5,
          195419411,
          442299309,
          254165697.5,
          357566200.8333333,
          92158064,
          303144152,
          470819652.5,
          441510779.7692308,
          246999039,
          203388186,
          243817750.33333334,
          201910229.33333334,
          310447617.5,
          279169582.3333333,
          331698859.6666667,
          177311151,
          206071502,
          203388341,
          265117668.8888889,
          192320939.2222222,
          106285522,
          205050786,
          571551294.5,
          527406321
         ],
         "yaxis": "y"
        }
       ],
       "layout": {
        "barmode": "relative",
        "legend": {
         "tracegroupgap": 0
        },
        "template": {
         "data": {
          "bar": [
           {
            "error_x": {
             "color": "#2a3f5f"
            },
            "error_y": {
             "color": "#2a3f5f"
            },
            "marker": {
             "line": {
              "color": "#E5ECF6",
              "width": 0.5
             },
             "pattern": {
              "fillmode": "overlay",
              "size": 10,
              "solidity": 0.2
             }
            },
            "type": "bar"
           }
          ],
          "barpolar": [
           {
            "marker": {
             "line": {
              "color": "#E5ECF6",
              "width": 0.5
             },
             "pattern": {
              "fillmode": "overlay",
              "size": 10,
              "solidity": 0.2
             }
            },
            "type": "barpolar"
           }
          ],
          "carpet": [
           {
            "aaxis": {
             "endlinecolor": "#2a3f5f",
             "gridcolor": "white",
             "linecolor": "white",
             "minorgridcolor": "white",
             "startlinecolor": "#2a3f5f"
            },
            "baxis": {
             "endlinecolor": "#2a3f5f",
             "gridcolor": "white",
             "linecolor": "white",
             "minorgridcolor": "white",
             "startlinecolor": "#2a3f5f"
            },
            "type": "carpet"
           }
          ],
          "choropleth": [
           {
            "colorbar": {
             "outlinewidth": 0,
             "ticks": ""
            },
            "type": "choropleth"
           }
          ],
          "contour": [
           {
            "colorbar": {
             "outlinewidth": 0,
             "ticks": ""
            },
            "colorscale": [
             [
              0,
              "#0d0887"
             ],
             [
              0.1111111111111111,
              "#46039f"
             ],
             [
              0.2222222222222222,
              "#7201a8"
             ],
             [
              0.3333333333333333,
              "#9c179e"
             ],
             [
              0.4444444444444444,
              "#bd3786"
             ],
             [
              0.5555555555555556,
              "#d8576b"
             ],
             [
              0.6666666666666666,
              "#ed7953"
             ],
             [
              0.7777777777777778,
              "#fb9f3a"
             ],
             [
              0.8888888888888888,
              "#fdca26"
             ],
             [
              1,
              "#f0f921"
             ]
            ],
            "type": "contour"
           }
          ],
          "contourcarpet": [
           {
            "colorbar": {
             "outlinewidth": 0,
             "ticks": ""
            },
            "type": "contourcarpet"
           }
          ],
          "heatmap": [
           {
            "colorbar": {
             "outlinewidth": 0,
             "ticks": ""
            },
            "colorscale": [
             [
              0,
              "#0d0887"
             ],
             [
              0.1111111111111111,
              "#46039f"
             ],
             [
              0.2222222222222222,
              "#7201a8"
             ],
             [
              0.3333333333333333,
              "#9c179e"
             ],
             [
              0.4444444444444444,
              "#bd3786"
             ],
             [
              0.5555555555555556,
              "#d8576b"
             ],
             [
              0.6666666666666666,
              "#ed7953"
             ],
             [
              0.7777777777777778,
              "#fb9f3a"
             ],
             [
              0.8888888888888888,
              "#fdca26"
             ],
             [
              1,
              "#f0f921"
             ]
            ],
            "type": "heatmap"
           }
          ],
          "heatmapgl": [
           {
            "colorbar": {
             "outlinewidth": 0,
             "ticks": ""
            },
            "colorscale": [
             [
              0,
              "#0d0887"
             ],
             [
              0.1111111111111111,
              "#46039f"
             ],
             [
              0.2222222222222222,
              "#7201a8"
             ],
             [
              0.3333333333333333,
              "#9c179e"
             ],
             [
              0.4444444444444444,
              "#bd3786"
             ],
             [
              0.5555555555555556,
              "#d8576b"
             ],
             [
              0.6666666666666666,
              "#ed7953"
             ],
             [
              0.7777777777777778,
              "#fb9f3a"
             ],
             [
              0.8888888888888888,
              "#fdca26"
             ],
             [
              1,
              "#f0f921"
             ]
            ],
            "type": "heatmapgl"
           }
          ],
          "histogram": [
           {
            "marker": {
             "pattern": {
              "fillmode": "overlay",
              "size": 10,
              "solidity": 0.2
             }
            },
            "type": "histogram"
           }
          ],
          "histogram2d": [
           {
            "colorbar": {
             "outlinewidth": 0,
             "ticks": ""
            },
            "colorscale": [
             [
              0,
              "#0d0887"
             ],
             [
              0.1111111111111111,
              "#46039f"
             ],
             [
              0.2222222222222222,
              "#7201a8"
             ],
             [
              0.3333333333333333,
              "#9c179e"
             ],
             [
              0.4444444444444444,
              "#bd3786"
             ],
             [
              0.5555555555555556,
              "#d8576b"
             ],
             [
              0.6666666666666666,
              "#ed7953"
             ],
             [
              0.7777777777777778,
              "#fb9f3a"
             ],
             [
              0.8888888888888888,
              "#fdca26"
             ],
             [
              1,
              "#f0f921"
             ]
            ],
            "type": "histogram2d"
           }
          ],
          "histogram2dcontour": [
           {
            "colorbar": {
             "outlinewidth": 0,
             "ticks": ""
            },
            "colorscale": [
             [
              0,
              "#0d0887"
             ],
             [
              0.1111111111111111,
              "#46039f"
             ],
             [
              0.2222222222222222,
              "#7201a8"
             ],
             [
              0.3333333333333333,
              "#9c179e"
             ],
             [
              0.4444444444444444,
              "#bd3786"
             ],
             [
              0.5555555555555556,
              "#d8576b"
             ],
             [
              0.6666666666666666,
              "#ed7953"
             ],
             [
              0.7777777777777778,
              "#fb9f3a"
             ],
             [
              0.8888888888888888,
              "#fdca26"
             ],
             [
              1,
              "#f0f921"
             ]
            ],
            "type": "histogram2dcontour"
           }
          ],
          "mesh3d": [
           {
            "colorbar": {
             "outlinewidth": 0,
             "ticks": ""
            },
            "type": "mesh3d"
           }
          ],
          "parcoords": [
           {
            "line": {
             "colorbar": {
              "outlinewidth": 0,
              "ticks": ""
             }
            },
            "type": "parcoords"
           }
          ],
          "pie": [
           {
            "automargin": true,
            "type": "pie"
           }
          ],
          "scatter": [
           {
            "fillpattern": {
             "fillmode": "overlay",
             "size": 10,
             "solidity": 0.2
            },
            "type": "scatter"
           }
          ],
          "scatter3d": [
           {
            "line": {
             "colorbar": {
              "outlinewidth": 0,
              "ticks": ""
             }
            },
            "marker": {
             "colorbar": {
              "outlinewidth": 0,
              "ticks": ""
             }
            },
            "type": "scatter3d"
           }
          ],
          "scattercarpet": [
           {
            "marker": {
             "colorbar": {
              "outlinewidth": 0,
              "ticks": ""
             }
            },
            "type": "scattercarpet"
           }
          ],
          "scattergeo": [
           {
            "marker": {
             "colorbar": {
              "outlinewidth": 0,
              "ticks": ""
             }
            },
            "type": "scattergeo"
           }
          ],
          "scattergl": [
           {
            "marker": {
             "colorbar": {
              "outlinewidth": 0,
              "ticks": ""
             }
            },
            "type": "scattergl"
           }
          ],
          "scattermapbox": [
           {
            "marker": {
             "colorbar": {
              "outlinewidth": 0,
              "ticks": ""
             }
            },
            "type": "scattermapbox"
           }
          ],
          "scatterpolar": [
           {
            "marker": {
             "colorbar": {
              "outlinewidth": 0,
              "ticks": ""
             }
            },
            "type": "scatterpolar"
           }
          ],
          "scatterpolargl": [
           {
            "marker": {
             "colorbar": {
              "outlinewidth": 0,
              "ticks": ""
             }
            },
            "type": "scatterpolargl"
           }
          ],
          "scatterternary": [
           {
            "marker": {
             "colorbar": {
              "outlinewidth": 0,
              "ticks": ""
             }
            },
            "type": "scatterternary"
           }
          ],
          "surface": [
           {
            "colorbar": {
             "outlinewidth": 0,
             "ticks": ""
            },
            "colorscale": [
             [
              0,
              "#0d0887"
             ],
             [
              0.1111111111111111,
              "#46039f"
             ],
             [
              0.2222222222222222,
              "#7201a8"
             ],
             [
              0.3333333333333333,
              "#9c179e"
             ],
             [
              0.4444444444444444,
              "#bd3786"
             ],
             [
              0.5555555555555556,
              "#d8576b"
             ],
             [
              0.6666666666666666,
              "#ed7953"
             ],
             [
              0.7777777777777778,
              "#fb9f3a"
             ],
             [
              0.8888888888888888,
              "#fdca26"
             ],
             [
              1,
              "#f0f921"
             ]
            ],
            "type": "surface"
           }
          ],
          "table": [
           {
            "cells": {
             "fill": {
              "color": "#EBF0F8"
             },
             "line": {
              "color": "white"
             }
            },
            "header": {
             "fill": {
              "color": "#C8D4E3"
             },
             "line": {
              "color": "white"
             }
            },
            "type": "table"
           }
          ]
         },
         "layout": {
          "annotationdefaults": {
           "arrowcolor": "#2a3f5f",
           "arrowhead": 0,
           "arrowwidth": 1
          },
          "autotypenumbers": "strict",
          "coloraxis": {
           "colorbar": {
            "outlinewidth": 0,
            "ticks": ""
           }
          },
          "colorscale": {
           "diverging": [
            [
             0,
             "#8e0152"
            ],
            [
             0.1,
             "#c51b7d"
            ],
            [
             0.2,
             "#de77ae"
            ],
            [
             0.3,
             "#f1b6da"
            ],
            [
             0.4,
             "#fde0ef"
            ],
            [
             0.5,
             "#f7f7f7"
            ],
            [
             0.6,
             "#e6f5d0"
            ],
            [
             0.7,
             "#b8e186"
            ],
            [
             0.8,
             "#7fbc41"
            ],
            [
             0.9,
             "#4d9221"
            ],
            [
             1,
             "#276419"
            ]
           ],
           "sequential": [
            [
             0,
             "#0d0887"
            ],
            [
             0.1111111111111111,
             "#46039f"
            ],
            [
             0.2222222222222222,
             "#7201a8"
            ],
            [
             0.3333333333333333,
             "#9c179e"
            ],
            [
             0.4444444444444444,
             "#bd3786"
            ],
            [
             0.5555555555555556,
             "#d8576b"
            ],
            [
             0.6666666666666666,
             "#ed7953"
            ],
            [
             0.7777777777777778,
             "#fb9f3a"
            ],
            [
             0.8888888888888888,
             "#fdca26"
            ],
            [
             1,
             "#f0f921"
            ]
           ],
           "sequentialminus": [
            [
             0,
             "#0d0887"
            ],
            [
             0.1111111111111111,
             "#46039f"
            ],
            [
             0.2222222222222222,
             "#7201a8"
            ],
            [
             0.3333333333333333,
             "#9c179e"
            ],
            [
             0.4444444444444444,
             "#bd3786"
            ],
            [
             0.5555555555555556,
             "#d8576b"
            ],
            [
             0.6666666666666666,
             "#ed7953"
            ],
            [
             0.7777777777777778,
             "#fb9f3a"
            ],
            [
             0.8888888888888888,
             "#fdca26"
            ],
            [
             1,
             "#f0f921"
            ]
           ]
          },
          "colorway": [
           "#636efa",
           "#EF553B",
           "#00cc96",
           "#ab63fa",
           "#FFA15A",
           "#19d3f3",
           "#FF6692",
           "#B6E880",
           "#FF97FF",
           "#FECB52"
          ],
          "font": {
           "color": "#2a3f5f"
          },
          "geo": {
           "bgcolor": "white",
           "lakecolor": "white",
           "landcolor": "#E5ECF6",
           "showlakes": true,
           "showland": true,
           "subunitcolor": "white"
          },
          "hoverlabel": {
           "align": "left"
          },
          "hovermode": "closest",
          "mapbox": {
           "style": "light"
          },
          "paper_bgcolor": "white",
          "plot_bgcolor": "#E5ECF6",
          "polar": {
           "angularaxis": {
            "gridcolor": "white",
            "linecolor": "white",
            "ticks": ""
           },
           "bgcolor": "#E5ECF6",
           "radialaxis": {
            "gridcolor": "white",
            "linecolor": "white",
            "ticks": ""
           }
          },
          "scene": {
           "xaxis": {
            "backgroundcolor": "#E5ECF6",
            "gridcolor": "white",
            "gridwidth": 2,
            "linecolor": "white",
            "showbackground": true,
            "ticks": "",
            "zerolinecolor": "white"
           },
           "yaxis": {
            "backgroundcolor": "#E5ECF6",
            "gridcolor": "white",
            "gridwidth": 2,
            "linecolor": "white",
            "showbackground": true,
            "ticks": "",
            "zerolinecolor": "white"
           },
           "zaxis": {
            "backgroundcolor": "#E5ECF6",
            "gridcolor": "white",
            "gridwidth": 2,
            "linecolor": "white",
            "showbackground": true,
            "ticks": "",
            "zerolinecolor": "white"
           }
          },
          "shapedefaults": {
           "line": {
            "color": "#2a3f5f"
           }
          },
          "ternary": {
           "aaxis": {
            "gridcolor": "white",
            "linecolor": "white",
            "ticks": ""
           },
           "baxis": {
            "gridcolor": "white",
            "linecolor": "white",
            "ticks": ""
           },
           "bgcolor": "#E5ECF6",
           "caxis": {
            "gridcolor": "white",
            "linecolor": "white",
            "ticks": ""
           }
          },
          "title": {
           "x": 0.05
          },
          "xaxis": {
           "automargin": true,
           "gridcolor": "white",
           "linecolor": "white",
           "ticks": "",
           "title": {
            "standoff": 15
           },
           "zerolinecolor": "white",
           "zerolinewidth": 2
          },
          "yaxis": {
           "automargin": true,
           "gridcolor": "white",
           "linecolor": "white",
           "ticks": "",
           "title": {
            "standoff": 15
           },
           "zerolinecolor": "white",
           "zerolinewidth": 2
          }
         }
        },
        "title": {
         "text": "Average of sale for films which contain each genre"
        },
        "xaxis": {
         "anchor": "y",
         "domain": [
          0,
          1
         ],
         "title": {
          "text": "Genre"
         }
        },
        "yaxis": {
         "anchor": "x",
         "domain": [
          0,
          1
         ],
         "title": {
          "text": "Average Sale For Each Genre"
         }
        }
       }
      },
      "text/html": [
       "<div>                            <div id=\"7e99a4e0-bea2-4d35-a22e-3f1d9f86e193\" class=\"plotly-graph-div\" style=\"height:525px; width:100%;\"></div>            <script type=\"text/javascript\">                require([\"plotly\"], function(Plotly) {                    window.PLOTLYENV=window.PLOTLYENV || {};                                    if (document.getElementById(\"7e99a4e0-bea2-4d35-a22e-3f1d9f86e193\")) {                    Plotly.newPlot(                        \"7e99a4e0-bea2-4d35-a22e-3f1d9f86e193\",                        [{\"alignmentgroup\":\"True\",\"hovertemplate\":\"Genre=%{x}<br>Average Sale For Each Genre=%{y}<extra></extra>\",\"legendgroup\":\"\",\"marker\":{\"color\":\"#636efa\",\"pattern\":{\"shape\":\"\"}},\"name\":\"\",\"offsetgroup\":\"\",\"orientation\":\"v\",\"showlegend\":false,\"textposition\":\"auto\",\"x\":[\"['Action', 'Adventure', 'Animation', 'Comedy', 'Drama', 'Family', 'Fantasy']\",\"['Action', 'Adventure', 'Animation', 'Comedy', 'Family', 'Fantasy', 'Sci-Fi']\",\"['Action', 'Adventure', 'Animation', 'Comedy', 'Family', 'Fantasy']\",\"['Action', 'Adventure', 'Animation', 'Comedy', 'Family', 'Sci-Fi']\",\"['Action', 'Adventure', 'Animation', 'Comedy', 'Family', 'Western']\",\"['Action', 'Adventure', 'Animation', 'Comedy', 'Family']\",\"['Action', 'Adventure', 'Animation', 'Comedy', 'Sci-Fi']\",\"['Action', 'Adventure', 'Animation', 'Family', 'Fantasy', 'Mystery']\",\"['Action', 'Adventure', 'Animation', 'Family', 'Fantasy', 'Sci-Fi']\",\"['Action', 'Adventure', 'Animation', 'Family']\",\"['Action', 'Adventure', 'Animation', 'Fantasy']\",\"['Action', 'Adventure', 'Comedy', 'Crime', 'Family', 'Sci-Fi']\",\"['Action', 'Adventure', 'Comedy', 'Crime', 'Thriller']\",\"['Action', 'Adventure', 'Comedy', 'Crime']\",\"['Action', 'Adventure', 'Comedy', 'Family', 'Fantasy', 'Sci-Fi']\",\"['Action', 'Adventure', 'Comedy', 'Family', 'Mystery', 'Sci-Fi']\",\"['Action', 'Adventure', 'Comedy', 'Family', 'Romance']\",\"['Action', 'Adventure', 'Comedy', 'Family', 'Sci-Fi']\",\"['Action', 'Adventure', 'Comedy', 'Fantasy', 'Sci-Fi']\",\"['Action', 'Adventure', 'Comedy', 'Fantasy']\",\"['Action', 'Adventure', 'Comedy', 'Mystery', 'Sci-Fi']\",\"['Action', 'Adventure', 'Comedy', 'Romance', 'Thriller', 'Western']\",\"['Action', 'Adventure', 'Comedy', 'Sci-Fi']\",\"['Action', 'Adventure', 'Comedy', 'Thriller', 'Western']\",\"['Action', 'Adventure', 'Comedy', 'Thriller']\",\"['Action', 'Adventure', 'Comedy']\",\"['Action', 'Adventure', 'Crime', 'Thriller']\",\"['Action', 'Adventure', 'Drama', 'Fantasy', 'History']\",\"['Action', 'Adventure', 'Drama', 'Fantasy', 'Romance', 'Thriller']\",\"['Action', 'Adventure', 'Drama', 'Fantasy', 'Romance']\",\"['Action', 'Adventure', 'Drama', 'Fantasy']\",\"['Action', 'Adventure', 'Drama', 'History', 'Western']\",\"['Action', 'Adventure', 'Drama', 'History']\",\"['Action', 'Adventure', 'Drama', 'Romance']\",\"['Action', 'Adventure', 'Drama', 'Sci-Fi', 'Thriller']\",\"['Action', 'Adventure', 'Drama', 'Sci-Fi']\",\"['Action', 'Adventure', 'Drama', 'Thriller']\",\"['Action', 'Adventure', 'Drama', 'War']\",\"['Action', 'Adventure', 'Drama']\",\"['Action', 'Adventure', 'Family', 'Fantasy', 'Mystery', 'Sci-Fi']\",\"['Action', 'Adventure', 'Family', 'Fantasy', 'Mystery']\",\"['Action', 'Adventure', 'Family', 'Fantasy', 'Sci-Fi']\",\"['Action', 'Adventure', 'Family', 'Fantasy']\",\"['Action', 'Adventure', 'Fantasy', 'Sci-Fi', 'War']\",\"['Action', 'Adventure', 'Fantasy', 'Sci-Fi']\",\"['Action', 'Adventure', 'Fantasy', 'Thriller']\",\"['Action', 'Adventure', 'Fantasy']\",\"['Action', 'Adventure', 'Horror', 'Sci-Fi']\",\"['Action', 'Adventure', 'Mystery', 'Sci-Fi']\",\"['Action', 'Adventure', 'Mystery', 'Thriller']\",\"['Action', 'Adventure', 'Mystery']\",\"['Action', 'Adventure', 'Sci-Fi', 'Thriller']\",\"['Action', 'Adventure', 'Sci-Fi']\",\"['Action', 'Adventure', 'Thriller']\",\"['Action', 'Adventure', 'Western']\",\"['Action', 'Adventure']\",\"['Action', 'Animation', 'Comedy', 'Crime', 'Family', 'Mystery', 'Sci-Fi', 'Thriller']\",\"['Action', 'Biography', 'Crime', 'Drama', 'History']\",\"['Action', 'Biography', 'Crime', 'Drama', 'Thriller']\",\"['Action', 'Biography', 'Drama', 'Sport', 'War']\",\"['Action', 'Biography', 'Drama', 'Sport']\",\"['Action', 'Biography', 'Drama', 'War']\",\"['Action', 'Comedy', 'Crime', 'Family']\",\"['Action', 'Comedy', 'Crime', 'Fantasy']\",\"['Action', 'Comedy', 'Crime', 'Music', 'Romance', 'Thriller']\",\"['Action', 'Comedy', 'Crime', 'Romance']\",\"['Action', 'Comedy', 'Crime', 'Thriller']\",\"['Action', 'Comedy', 'Crime']\",\"['Action', 'Comedy', 'Documentary']\",\"['Action', 'Comedy', 'Drama', 'Family']\",\"['Action', 'Comedy', 'Family', 'Fantasy']\",\"['Action', 'Comedy', 'Fantasy', 'Sci-Fi']\",\"['Action', 'Comedy', 'Sci-Fi', 'Western']\",\"['Action', 'Comedy', 'Thriller']\",\"['Action', 'Comedy', 'War']\",\"['Action', 'Comedy']\",\"['Action', 'Crime', 'Drama', 'Music', 'Thriller']\",\"['Action', 'Crime', 'Drama', 'Mystery', 'Thriller']\",\"['Action', 'Crime', 'Drama', 'Thriller']\",\"['Action', 'Crime', 'Drama']\",\"['Action', 'Crime', 'Fantasy']\",\"['Action', 'Crime', 'Mystery', 'Sci-Fi', 'Thriller']\",\"['Action', 'Crime', 'Romance', 'Thriller']\",\"['Action', 'Crime', 'Sci-Fi', 'Thriller']\",\"['Action', 'Crime', 'Thriller']\",\"['Action', 'Crime']\",\"['Action', 'Drama', 'Family', 'Sport']\",\"['Action', 'Drama', 'Fantasy', 'Romance']\",\"['Action', 'Drama', 'Fantasy']\",\"['Action', 'Drama', 'History', 'Romance', 'War']\",\"['Action', 'Drama', 'History', 'Thriller', 'War']\",\"['Action', 'Drama', 'History', 'War']\",\"['Action', 'Drama', 'Music', 'Romance', 'Thriller']\",\"['Action', 'Drama', 'Mystery', 'Sci-Fi', 'Thriller']\",\"['Action', 'Drama', 'Mystery', 'Sci-Fi']\",\"['Action', 'Drama', 'Sci-Fi', 'Sport']\",\"['Action', 'Drama', 'Sci-Fi', 'Thriller']\",\"['Action', 'Drama', 'Sci-Fi']\",\"['Action', 'Drama', 'Sport']\",\"['Action', 'Drama', 'Thriller', 'War']\",\"['Action', 'Drama', 'Thriller']\",\"['Action', 'Drama', 'War']\",\"['Action', 'Drama']\",\"['Action', 'Fantasy', 'Horror', 'War']\",\"['Action', 'Fantasy', 'Thriller']\",\"['Action', 'Horror', 'Sci-Fi', 'Thriller']\",\"['Action', 'Horror']\",\"['Action', 'Mystery', 'Sci-Fi', 'Thriller']\",\"['Action', 'Mystery', 'Thriller']\",\"['Action', 'Sci-Fi', 'Thriller', 'Western']\",\"['Action', 'Sci-Fi', 'Thriller']\",\"['Action', 'Sci-Fi']\",\"['Action', 'Thriller']\",\"['Adventure', 'Animation', 'Comedy', 'Crime', 'Drama', 'Family', 'Fantasy']\",\"['Adventure', 'Animation', 'Comedy', 'Crime', 'Drama', 'Family', 'Sci-Fi']\",\"['Adventure', 'Animation', 'Comedy', 'Crime', 'Family', 'Fantasy', 'Mystery']\",\"['Adventure', 'Animation', 'Comedy', 'Crime', 'Family', 'Mystery']\",\"['Adventure', 'Animation', 'Comedy', 'Crime', 'Family', 'Sci-Fi']\",\"['Adventure', 'Animation', 'Comedy', 'Drama', 'Family', 'Fantasy', 'Music', 'Musical']\",\"['Adventure', 'Animation', 'Comedy', 'Drama', 'Family', 'Fantasy', 'Music']\",\"['Adventure', 'Animation', 'Comedy', 'Drama', 'Family', 'Fantasy', 'Musical']\",\"['Adventure', 'Animation', 'Comedy', 'Drama', 'Family', 'Fantasy', 'Sci-Fi']\",\"['Adventure', 'Animation', 'Comedy', 'Drama', 'Family', 'Fantasy']\",\"['Adventure', 'Animation', 'Comedy', 'Drama', 'Family', 'Music']\",\"['Adventure', 'Animation', 'Comedy', 'Drama', 'Family', 'Musical']\",\"['Adventure', 'Animation', 'Comedy', 'Drama', 'Family']\",\"['Adventure', 'Animation', 'Comedy', 'Family', 'Fantasy', 'History', 'Sci-Fi']\",\"['Adventure', 'Animation', 'Comedy', 'Family', 'Fantasy', 'Horror']\",\"['Adventure', 'Animation', 'Comedy', 'Family', 'Fantasy', 'Music', 'Musical']\",\"['Adventure', 'Animation', 'Comedy', 'Family', 'Fantasy', 'Music', 'Mystery']\",\"['Adventure', 'Animation', 'Comedy', 'Family', 'Fantasy', 'Musical', 'Romance']\",\"['Adventure', 'Animation', 'Comedy', 'Family', 'Fantasy', 'Musical']\",\"['Adventure', 'Animation', 'Comedy', 'Family', 'Fantasy', 'Romance']\",\"['Adventure', 'Animation', 'Comedy', 'Family', 'Fantasy', 'Sci-Fi', 'Sport']\",\"['Adventure', 'Animation', 'Comedy', 'Family', 'Fantasy', 'Sci-Fi']\",\"['Adventure', 'Animation', 'Comedy', 'Family', 'Fantasy']\",\"['Adventure', 'Animation', 'Comedy', 'Family', 'Music', 'Musical', 'Romance']\",\"['Adventure', 'Animation', 'Comedy', 'Family', 'Music', 'Musical']\",\"['Adventure', 'Animation', 'Comedy', 'Family', 'Musical', 'Romance']\",\"['Adventure', 'Animation', 'Comedy', 'Family', 'Romance', 'Sci-Fi']\",\"['Adventure', 'Animation', 'Comedy', 'Family', 'Sci-Fi']\",\"['Adventure', 'Animation', 'Comedy', 'Family', 'Sport']\",\"['Adventure', 'Animation', 'Comedy', 'Family', 'Thriller']\",\"['Adventure', 'Animation', 'Comedy', 'Family']\",\"['Adventure', 'Animation', 'Comedy', 'Fantasy']\",\"['Adventure', 'Animation', 'Comedy']\",\"['Adventure', 'Animation', 'Drama', 'Family', 'Fantasy', 'Musical']\",\"['Adventure', 'Animation', 'Drama', 'Family', 'Fantasy']\",\"['Adventure', 'Animation', 'Drama', 'Family', 'Musical', 'Romance']\",\"['Adventure', 'Animation', 'Drama', 'Family', 'Musical']\",\"['Adventure', 'Animation', 'Family', 'Fantasy', 'Musical', 'Romance']\",\"['Adventure', 'Animation', 'Family', 'Fantasy', 'Musical']\",\"['Adventure', 'Animation', 'Family', 'Sci-Fi']\",\"['Adventure', 'Comedy', 'Crime', 'Drama']\",\"['Adventure', 'Comedy', 'Crime', 'Family']\",\"['Adventure', 'Comedy', 'Crime', 'Mystery']\",\"['Adventure', 'Comedy', 'Crime']\",\"['Adventure', 'Comedy', 'Drama', 'Family', 'Romance']\",\"['Adventure', 'Comedy', 'Drama', 'Fantasy', 'Musical']\",\"['Adventure', 'Comedy', 'Drama']\",\"['Adventure', 'Comedy', 'Family', 'Fantasy', 'Horror', 'Mystery', 'Sci-Fi']\",\"['Adventure', 'Comedy', 'Family', 'Fantasy', 'Musical', 'Romance']\",\"['Adventure', 'Comedy', 'Family', 'Fantasy', 'Musical']\",\"['Adventure', 'Comedy', 'Family', 'Fantasy', 'Mystery']\",\"['Adventure', 'Comedy', 'Family', 'Fantasy', 'Romance', 'Sci-Fi']\",\"['Adventure', 'Comedy', 'Family', 'Fantasy', 'Romance']\",\"['Adventure', 'Comedy', 'Family', 'Fantasy']\",\"['Adventure', 'Comedy', 'Family', 'Musical']\",\"['Adventure', 'Comedy', 'Family', 'Sport']\",\"['Adventure', 'Comedy', 'Family']\",\"['Adventure', 'Comedy', 'Fantasy', 'Sci-Fi']\",\"['Adventure', 'Comedy', 'Sci-Fi', 'Western']\",\"['Adventure', 'Comedy', 'Sci-Fi']\",\"['Adventure', 'Comedy']\",\"['Adventure', 'Drama', 'Family', 'Fantasy', 'Romance']\",\"['Adventure', 'Drama', 'Family', 'Fantasy', 'Thriller']\",\"['Adventure', 'Drama', 'Family', 'Fantasy']\",\"['Adventure', 'Drama', 'Family']\",\"['Adventure', 'Drama', 'Fantasy', 'Romance', 'Thriller']\",\"['Adventure', 'Drama', 'Fantasy', 'Romance']\",\"['Adventure', 'Drama', 'Fantasy']\",\"['Adventure', 'Drama', 'History', 'Romance', 'War']\",\"['Adventure', 'Drama', 'History']\",\"['Adventure', 'Drama', 'Romance']\",\"['Adventure', 'Drama', 'Sci-Fi']\",\"['Adventure', 'Drama', 'War']\",\"['Adventure', 'Drama', 'Western']\",\"['Adventure', 'Family', 'Fantasy', 'Musical', 'Romance']\",\"['Adventure', 'Family', 'Fantasy', 'Mystery']\",\"['Adventure', 'Family', 'Fantasy', 'Romance']\",\"['Adventure', 'Family', 'Fantasy', 'Sci-Fi']\",\"['Adventure', 'Family', 'Fantasy']\",\"['Adventure', 'Family', 'Sci-Fi']\",\"['Adventure', 'Fantasy', 'Mystery']\",\"['Adventure', 'Fantasy']\",\"['Adventure', 'Mystery', 'Sci-Fi']\",\"['Adventure', 'Thriller']\",\"['Animation', 'Comedy', 'Drama', 'Family', 'Fantasy', 'Musical']\",\"['Animation', 'Comedy', 'Family', 'Fantasy', 'Horror']\",\"['Animation', 'Comedy', 'Family', 'Musical']\",\"['Animation', 'Drama', 'Family', 'Musical', 'Romance']\",\"['Animation', 'Family', 'Fantasy', 'Musical', 'Romance']\",\"['Biography', 'Comedy', 'Crime', 'Drama']\",\"['Biography', 'Comedy', 'Drama', 'Music']\",\"['Biography', 'Comedy', 'Drama', 'Romance']\",\"['Biography', 'Comedy', 'Drama']\",\"['Biography', 'Crime', 'Drama']\",\"['Biography', 'Drama', 'Family', 'Music']\",\"['Biography', 'Drama', 'Family']\",\"['Biography', 'Drama', 'History', 'Music']\",\"['Biography', 'Drama', 'History', 'War']\",\"['Biography', 'Drama', 'History']\",\"['Biography', 'Drama', 'Music', 'Romance']\",\"['Biography', 'Drama', 'Music']\",\"['Biography', 'Drama', 'Musical']\",\"['Biography', 'Drama', 'Romance']\",\"['Biography', 'Drama', 'Sport']\",\"['Biography', 'Drama', 'Thriller', 'War']\",\"['Biography', 'Drama', 'Thriller']\",\"['Biography', 'Drama']\",\"['Comedy', 'Crime', 'Drama', 'Mystery', 'Thriller']\",\"['Comedy', 'Crime', 'Drama']\",\"['Comedy', 'Crime', 'Musical']\",\"['Comedy', 'Crime', 'Romance', 'Thriller']\",\"['Comedy', 'Crime', 'Sport']\",\"['Comedy', 'Crime']\",\"['Comedy', 'Drama', 'Family', 'Fantasy']\",\"['Comedy', 'Drama', 'Family', 'Music', 'Musical', 'Romance']\",\"['Comedy', 'Drama', 'Family', 'Musical']\",\"['Comedy', 'Drama', 'Family']\",\"['Comedy', 'Drama', 'Fantasy', 'Romance']\",\"['Comedy', 'Drama', 'Fantasy']\",\"['Comedy', 'Drama', 'History', 'Romance']\",\"['Comedy', 'Drama', 'Music', 'Musical', 'Romance']\",\"['Comedy', 'Drama', 'Musical', 'Romance']\",\"['Comedy', 'Drama', 'Romance', 'Sport']\",\"['Comedy', 'Drama', 'Romance']\",\"['Comedy', 'Drama', 'Sport']\",\"['Comedy', 'Drama', 'War']\",\"['Comedy', 'Drama']\",\"['Comedy', 'Family', 'Fantasy', 'Music', 'Romance']\",\"['Comedy', 'Family', 'Fantasy', 'Romance']\",\"['Comedy', 'Family', 'Fantasy']\",\"['Comedy', 'Family', 'Music']\",\"['Comedy', 'Family', 'Romance']\",\"['Comedy', 'Family', 'Sci-Fi']\",\"['Comedy', 'Family', 'Sport']\",\"['Comedy', 'Family']\",\"['Comedy', 'Fantasy', 'Romance']\",\"['Comedy', 'Fantasy']\",\"['Comedy', 'Music']\",\"['Comedy', 'Musical', 'Romance']\",\"['Comedy', 'Romance', 'Sci-Fi']\",\"['Comedy', 'Romance']\",\"['Comedy', 'Sport']\",\"['Comedy', 'War']\",\"['Comedy', 'Western']\",\"['Comedy']\",\"['Crime', 'Drama', 'Fantasy', 'Mystery']\",\"['Crime', 'Drama', 'History', 'Thriller']\",\"['Crime', 'Drama', 'Horror', 'Thriller']\",\"['Crime', 'Drama', 'Mystery', 'Thriller']\",\"['Crime', 'Drama', 'Mystery']\",\"['Crime', 'Drama', 'Thriller']\",\"['Crime', 'Drama']\",\"['Crime', 'Horror', 'Thriller']\",\"['Crime', 'Horror']\",\"['Crime', 'Mystery', 'Thriller']\",\"['Crime', 'Thriller']\",\"['Documentary', 'Drama', 'War']\",\"['Drama', 'Family', 'Fantasy']\",\"['Drama', 'Family']\",\"['Drama', 'Fantasy', 'Horror', 'Romance']\",\"['Drama', 'Fantasy', 'Horror']\",\"['Drama', 'Fantasy', 'Romance', 'Sci-Fi']\",\"['Drama', 'Fantasy', 'Romance', 'Thriller']\",\"['Drama', 'Fantasy', 'Romance']\",\"['Drama', 'History', 'Sport']\",\"['Drama', 'History', 'Thriller', 'War']\",\"['Drama', 'History']\",\"['Drama', 'Horror', 'Mystery', 'Thriller']\",\"['Drama', 'Horror', 'Sci-Fi', 'Thriller']\",\"['Drama', 'Horror', 'Sci-Fi']\",\"['Drama', 'Music', 'Musical']\",\"['Drama', 'Music', 'Romance']\",\"['Drama', 'Music']\",\"['Drama', 'Musical', 'Romance']\",\"['Drama', 'Mystery', 'Sci-Fi', 'Thriller']\",\"['Drama', 'Mystery', 'Thriller']\",\"['Drama', 'Mystery', 'War']\",\"['Drama', 'Romance', 'Sci-Fi', 'Thriller']\",\"['Drama', 'Romance', 'Thriller']\",\"['Drama', 'Romance']\",\"['Drama', 'Sci-Fi', 'Thriller']\",\"['Drama', 'Sci-Fi']\",\"['Drama', 'Sport']\",\"['Drama', 'Thriller']\",\"['Drama', 'War']\",\"['Drama', 'Western']\",\"['Drama']\",\"['Fantasy', 'Horror', 'Mystery', 'Thriller']\",\"['Fantasy', 'Horror', 'Mystery']\",\"['Fantasy', 'Mystery', 'Romance', 'Sci-Fi', 'Thriller']\",\"['Horror', 'Mystery', 'Thriller']\",\"['Horror', 'Mystery']\",\"['Horror', 'Sci-Fi']\",\"['Horror', 'Thriller']\",\"['Horror']\",\"['Mystery', 'Thriller']\"],\"xaxis\":\"x\",\"y\":[306941670.0,365975935.0,576569229.3333334,667983822.0,245724603.0,352333929.0,485004754.0,268426634.0,174849193.5,631607053.0,196393745.0,134403112.0,337504103.5,267497494.5,335260290.0,433514834.0,174463257.0,166681282.75,592743834.0,587365938.5,445135288.0,250288523.0,566935970.9090909,183031272.0,414351546.0,242155440.0,207725639.0,269784201.0,698491347.0,285113046.5,846952227.0,532950503.0,321669741.0,473700143.0,553100990.75,1597272859.0,242913094.5,211622535.0,412290423.0,209035668.0,938313246.0,244232688.0,369689724.5,822824522.0,806326588.2380953,339380627.3333333,612021693.4166666,540455876.0,220453959.5,403377283.5,533938548.5,513003075.3636364,741471588.1964285,483093391.39285713,211431375.5,455989081.8333333,321885765.0,214104620.0,218791811.0,161459297.0,177349539.5,351114642.0,183348429.0,351583407.0,162738726.0,212742720.0,316750191.5,189411912.33333334,171685792.0,198636868.0,200687492.0,262863153.0,222104681.0,378882411.0,195702963.0,235666219.0,226945087.0,368875760.0,356144915.2,727402279.0,266892996.0,358372926.0,212404396.0,245676146.0,363420533.04347825,179179718.0,359126022.0,226904017.0,629443428.0,449220945.0,527016307.0,194141996.5,411006740.0,259334548.0,185382813.0,299268508.0,551809648.8,286140700.0,173567581.0,175654283.5,315156409.0,298371043.0,416091831.6666667,403449830.0,228738393.0,342724155.0,116632628.0,320516581.6666667,306079554.5,174822325.0,384868305.2,404059509.72727275,329299737.0,351496066.0,309979994.0,329803958.0,1024121104.0,927031195.75,404246275.5,298572799.0,281440209.5,363731455.8,261515511.5,448191819.0,140894675.0,332681382.0,275698039.0,501885240.0,288747035.5,807817888.0,383937270.5,840491158.8,745645584.25,230418342.0,351850741.5,512502464.2352941,384336108.0,391772450.0,93933394.0,262511490.0,373515621.0,385520862.6,374583879.0,655762114.6153846,140705322.0,536414293.0,218613188.0,349822765.0,346079773.0,1363255622.0,184925486.0,87404651.0,521311890.0,233274812.0,358994850.0,164115897.0,212385533.0,149292488.0,212902372.0,157962430.5,181216833.0,1050693953.0,412257452.5,275650703.0,212874864.0,160886199.5,281976488.4,165184237.0,115035090.0,130154568.0,191378330.0,245077583.0,357203382.0,111037232.0,542358331.0,296482446.0,966554929.0,120455994.0,712205856.0,770386567.5,609016565.0,173013509.0,355237933.0,429632142.0,665945827.0,321457747.0,424208848.0,1273576220.0,915230784.8,758411779.0,132675864.0,579026228.1111112,792910554.0,1342321665.0,979397982.0,242979584.0,471411300.0,216222015.0,281079724.0,634208384.0,325338851.0,424967620.0,392000694.0,321752656.0,202292902.0,117867984.0,310934871.0,86086881.0,101982712.0,201634991.0,275293450.0,328497486.6666667,186797986.0,910809311.0,316135017.0,167067269.0,181150231.0,233555708.0,232325503.0,239557663.0,311605581.0,140678981.33333334,306776732.0,152263880.0,191466556.0,200991701.0,190539357.0,252909177.0,136853506.0,288270082.6666667,240685326.0,119718203.0,289317794.0,448906865.0,203553311.0,273552592.0,240223482.95652175,132440069.0,81600000.0,216665394.36363637,160846332.0,169852759.0,256141310.2857143,231605150.0,150034817.0,177977226.0,147880543.0,268610827.25,374111707.0,326268638.3333333,196684434.25,469927768.6666667,220150454.5,235247383.86666667,165871828.75,85297000.0,179033791.0,218460183.17142856,286801374.0,159808370.0,272742922.0,192872556.0,352794081.0,283842375.54545456,237073851.66666666,206687971.5,107363905.0,351723989.0,374924684.6666667,222446882.0,137587063.0,306209289.0,215862692.0,348378918.0,152036382.0,505703557.0,372116600.5,148336445.0,167183116.5,497409852.0,291420351.0,297372261.0,340952971.0,155430335.0,283947837.5,195419411.0,442299309.0,254165697.5,357566200.8333333,92158064.0,303144152.0,470819652.5,441510779.7692308,246999039.0,203388186.0,243817750.33333334,201910229.33333334,310447617.5,279169582.3333333,331698859.6666667,177311151.0,206071502.0,203388341.0,265117668.8888889,192320939.2222222,106285522.0,205050786.0,571551294.5,527406321.0],\"yaxis\":\"y\",\"type\":\"bar\"}],                        {\"template\":{\"data\":{\"histogram2dcontour\":[{\"type\":\"histogram2dcontour\",\"colorbar\":{\"outlinewidth\":0,\"ticks\":\"\"},\"colorscale\":[[0.0,\"#0d0887\"],[0.1111111111111111,\"#46039f\"],[0.2222222222222222,\"#7201a8\"],[0.3333333333333333,\"#9c179e\"],[0.4444444444444444,\"#bd3786\"],[0.5555555555555556,\"#d8576b\"],[0.6666666666666666,\"#ed7953\"],[0.7777777777777778,\"#fb9f3a\"],[0.8888888888888888,\"#fdca26\"],[1.0,\"#f0f921\"]]}],\"choropleth\":[{\"type\":\"choropleth\",\"colorbar\":{\"outlinewidth\":0,\"ticks\":\"\"}}],\"histogram2d\":[{\"type\":\"histogram2d\",\"colorbar\":{\"outlinewidth\":0,\"ticks\":\"\"},\"colorscale\":[[0.0,\"#0d0887\"],[0.1111111111111111,\"#46039f\"],[0.2222222222222222,\"#7201a8\"],[0.3333333333333333,\"#9c179e\"],[0.4444444444444444,\"#bd3786\"],[0.5555555555555556,\"#d8576b\"],[0.6666666666666666,\"#ed7953\"],[0.7777777777777778,\"#fb9f3a\"],[0.8888888888888888,\"#fdca26\"],[1.0,\"#f0f921\"]]}],\"heatmap\":[{\"type\":\"heatmap\",\"colorbar\":{\"outlinewidth\":0,\"ticks\":\"\"},\"colorscale\":[[0.0,\"#0d0887\"],[0.1111111111111111,\"#46039f\"],[0.2222222222222222,\"#7201a8\"],[0.3333333333333333,\"#9c179e\"],[0.4444444444444444,\"#bd3786\"],[0.5555555555555556,\"#d8576b\"],[0.6666666666666666,\"#ed7953\"],[0.7777777777777778,\"#fb9f3a\"],[0.8888888888888888,\"#fdca26\"],[1.0,\"#f0f921\"]]}],\"heatmapgl\":[{\"type\":\"heatmapgl\",\"colorbar\":{\"outlinewidth\":0,\"ticks\":\"\"},\"colorscale\":[[0.0,\"#0d0887\"],[0.1111111111111111,\"#46039f\"],[0.2222222222222222,\"#7201a8\"],[0.3333333333333333,\"#9c179e\"],[0.4444444444444444,\"#bd3786\"],[0.5555555555555556,\"#d8576b\"],[0.6666666666666666,\"#ed7953\"],[0.7777777777777778,\"#fb9f3a\"],[0.8888888888888888,\"#fdca26\"],[1.0,\"#f0f921\"]]}],\"contourcarpet\":[{\"type\":\"contourcarpet\",\"colorbar\":{\"outlinewidth\":0,\"ticks\":\"\"}}],\"contour\":[{\"type\":\"contour\",\"colorbar\":{\"outlinewidth\":0,\"ticks\":\"\"},\"colorscale\":[[0.0,\"#0d0887\"],[0.1111111111111111,\"#46039f\"],[0.2222222222222222,\"#7201a8\"],[0.3333333333333333,\"#9c179e\"],[0.4444444444444444,\"#bd3786\"],[0.5555555555555556,\"#d8576b\"],[0.6666666666666666,\"#ed7953\"],[0.7777777777777778,\"#fb9f3a\"],[0.8888888888888888,\"#fdca26\"],[1.0,\"#f0f921\"]]}],\"surface\":[{\"type\":\"surface\",\"colorbar\":{\"outlinewidth\":0,\"ticks\":\"\"},\"colorscale\":[[0.0,\"#0d0887\"],[0.1111111111111111,\"#46039f\"],[0.2222222222222222,\"#7201a8\"],[0.3333333333333333,\"#9c179e\"],[0.4444444444444444,\"#bd3786\"],[0.5555555555555556,\"#d8576b\"],[0.6666666666666666,\"#ed7953\"],[0.7777777777777778,\"#fb9f3a\"],[0.8888888888888888,\"#fdca26\"],[1.0,\"#f0f921\"]]}],\"mesh3d\":[{\"type\":\"mesh3d\",\"colorbar\":{\"outlinewidth\":0,\"ticks\":\"\"}}],\"scatter\":[{\"fillpattern\":{\"fillmode\":\"overlay\",\"size\":10,\"solidity\":0.2},\"type\":\"scatter\"}],\"parcoords\":[{\"type\":\"parcoords\",\"line\":{\"colorbar\":{\"outlinewidth\":0,\"ticks\":\"\"}}}],\"scatterpolargl\":[{\"type\":\"scatterpolargl\",\"marker\":{\"colorbar\":{\"outlinewidth\":0,\"ticks\":\"\"}}}],\"bar\":[{\"error_x\":{\"color\":\"#2a3f5f\"},\"error_y\":{\"color\":\"#2a3f5f\"},\"marker\":{\"line\":{\"color\":\"#E5ECF6\",\"width\":0.5},\"pattern\":{\"fillmode\":\"overlay\",\"size\":10,\"solidity\":0.2}},\"type\":\"bar\"}],\"scattergeo\":[{\"type\":\"scattergeo\",\"marker\":{\"colorbar\":{\"outlinewidth\":0,\"ticks\":\"\"}}}],\"scatterpolar\":[{\"type\":\"scatterpolar\",\"marker\":{\"colorbar\":{\"outlinewidth\":0,\"ticks\":\"\"}}}],\"histogram\":[{\"marker\":{\"pattern\":{\"fillmode\":\"overlay\",\"size\":10,\"solidity\":0.2}},\"type\":\"histogram\"}],\"scattergl\":[{\"type\":\"scattergl\",\"marker\":{\"colorbar\":{\"outlinewidth\":0,\"ticks\":\"\"}}}],\"scatter3d\":[{\"type\":\"scatter3d\",\"line\":{\"colorbar\":{\"outlinewidth\":0,\"ticks\":\"\"}},\"marker\":{\"colorbar\":{\"outlinewidth\":0,\"ticks\":\"\"}}}],\"scattermapbox\":[{\"type\":\"scattermapbox\",\"marker\":{\"colorbar\":{\"outlinewidth\":0,\"ticks\":\"\"}}}],\"scatterternary\":[{\"type\":\"scatterternary\",\"marker\":{\"colorbar\":{\"outlinewidth\":0,\"ticks\":\"\"}}}],\"scattercarpet\":[{\"type\":\"scattercarpet\",\"marker\":{\"colorbar\":{\"outlinewidth\":0,\"ticks\":\"\"}}}],\"carpet\":[{\"aaxis\":{\"endlinecolor\":\"#2a3f5f\",\"gridcolor\":\"white\",\"linecolor\":\"white\",\"minorgridcolor\":\"white\",\"startlinecolor\":\"#2a3f5f\"},\"baxis\":{\"endlinecolor\":\"#2a3f5f\",\"gridcolor\":\"white\",\"linecolor\":\"white\",\"minorgridcolor\":\"white\",\"startlinecolor\":\"#2a3f5f\"},\"type\":\"carpet\"}],\"table\":[{\"cells\":{\"fill\":{\"color\":\"#EBF0F8\"},\"line\":{\"color\":\"white\"}},\"header\":{\"fill\":{\"color\":\"#C8D4E3\"},\"line\":{\"color\":\"white\"}},\"type\":\"table\"}],\"barpolar\":[{\"marker\":{\"line\":{\"color\":\"#E5ECF6\",\"width\":0.5},\"pattern\":{\"fillmode\":\"overlay\",\"size\":10,\"solidity\":0.2}},\"type\":\"barpolar\"}],\"pie\":[{\"automargin\":true,\"type\":\"pie\"}]},\"layout\":{\"autotypenumbers\":\"strict\",\"colorway\":[\"#636efa\",\"#EF553B\",\"#00cc96\",\"#ab63fa\",\"#FFA15A\",\"#19d3f3\",\"#FF6692\",\"#B6E880\",\"#FF97FF\",\"#FECB52\"],\"font\":{\"color\":\"#2a3f5f\"},\"hovermode\":\"closest\",\"hoverlabel\":{\"align\":\"left\"},\"paper_bgcolor\":\"white\",\"plot_bgcolor\":\"#E5ECF6\",\"polar\":{\"bgcolor\":\"#E5ECF6\",\"angularaxis\":{\"gridcolor\":\"white\",\"linecolor\":\"white\",\"ticks\":\"\"},\"radialaxis\":{\"gridcolor\":\"white\",\"linecolor\":\"white\",\"ticks\":\"\"}},\"ternary\":{\"bgcolor\":\"#E5ECF6\",\"aaxis\":{\"gridcolor\":\"white\",\"linecolor\":\"white\",\"ticks\":\"\"},\"baxis\":{\"gridcolor\":\"white\",\"linecolor\":\"white\",\"ticks\":\"\"},\"caxis\":{\"gridcolor\":\"white\",\"linecolor\":\"white\",\"ticks\":\"\"}},\"coloraxis\":{\"colorbar\":{\"outlinewidth\":0,\"ticks\":\"\"}},\"colorscale\":{\"sequential\":[[0.0,\"#0d0887\"],[0.1111111111111111,\"#46039f\"],[0.2222222222222222,\"#7201a8\"],[0.3333333333333333,\"#9c179e\"],[0.4444444444444444,\"#bd3786\"],[0.5555555555555556,\"#d8576b\"],[0.6666666666666666,\"#ed7953\"],[0.7777777777777778,\"#fb9f3a\"],[0.8888888888888888,\"#fdca26\"],[1.0,\"#f0f921\"]],\"sequentialminus\":[[0.0,\"#0d0887\"],[0.1111111111111111,\"#46039f\"],[0.2222222222222222,\"#7201a8\"],[0.3333333333333333,\"#9c179e\"],[0.4444444444444444,\"#bd3786\"],[0.5555555555555556,\"#d8576b\"],[0.6666666666666666,\"#ed7953\"],[0.7777777777777778,\"#fb9f3a\"],[0.8888888888888888,\"#fdca26\"],[1.0,\"#f0f921\"]],\"diverging\":[[0,\"#8e0152\"],[0.1,\"#c51b7d\"],[0.2,\"#de77ae\"],[0.3,\"#f1b6da\"],[0.4,\"#fde0ef\"],[0.5,\"#f7f7f7\"],[0.6,\"#e6f5d0\"],[0.7,\"#b8e186\"],[0.8,\"#7fbc41\"],[0.9,\"#4d9221\"],[1,\"#276419\"]]},\"xaxis\":{\"gridcolor\":\"white\",\"linecolor\":\"white\",\"ticks\":\"\",\"title\":{\"standoff\":15},\"zerolinecolor\":\"white\",\"automargin\":true,\"zerolinewidth\":2},\"yaxis\":{\"gridcolor\":\"white\",\"linecolor\":\"white\",\"ticks\":\"\",\"title\":{\"standoff\":15},\"zerolinecolor\":\"white\",\"automargin\":true,\"zerolinewidth\":2},\"scene\":{\"xaxis\":{\"backgroundcolor\":\"#E5ECF6\",\"gridcolor\":\"white\",\"linecolor\":\"white\",\"showbackground\":true,\"ticks\":\"\",\"zerolinecolor\":\"white\",\"gridwidth\":2},\"yaxis\":{\"backgroundcolor\":\"#E5ECF6\",\"gridcolor\":\"white\",\"linecolor\":\"white\",\"showbackground\":true,\"ticks\":\"\",\"zerolinecolor\":\"white\",\"gridwidth\":2},\"zaxis\":{\"backgroundcolor\":\"#E5ECF6\",\"gridcolor\":\"white\",\"linecolor\":\"white\",\"showbackground\":true,\"ticks\":\"\",\"zerolinecolor\":\"white\",\"gridwidth\":2}},\"shapedefaults\":{\"line\":{\"color\":\"#2a3f5f\"}},\"annotationdefaults\":{\"arrowcolor\":\"#2a3f5f\",\"arrowhead\":0,\"arrowwidth\":1},\"geo\":{\"bgcolor\":\"white\",\"landcolor\":\"#E5ECF6\",\"subunitcolor\":\"white\",\"showland\":true,\"showlakes\":true,\"lakecolor\":\"white\"},\"title\":{\"x\":0.05},\"mapbox\":{\"style\":\"light\"}}},\"xaxis\":{\"anchor\":\"y\",\"domain\":[0.0,1.0],\"title\":{\"text\":\"Genre\"}},\"yaxis\":{\"anchor\":\"x\",\"domain\":[0.0,1.0],\"title\":{\"text\":\"Average Sale For Each Genre\"}},\"legend\":{\"tracegroupgap\":0},\"title\":{\"text\":\"Average of sale for films which contain each genre\"},\"barmode\":\"relative\"},                        {\"responsive\": true}                    ).then(function(){\n",
       "                            \n",
       "var gd = document.getElementById('7e99a4e0-bea2-4d35-a22e-3f1d9f86e193');\n",
       "var x = new MutationObserver(function (mutations, observer) {{\n",
       "        var display = window.getComputedStyle(gd).display;\n",
       "        if (!display || display === 'none') {{\n",
       "            console.log([gd, 'removed!']);\n",
       "            Plotly.purge(gd);\n",
       "            observer.disconnect();\n",
       "        }}\n",
       "}});\n",
       "\n",
       "// Listen for the removal of the full notebook cells\n",
       "var notebookContainer = gd.closest('#notebook-container');\n",
       "if (notebookContainer) {{\n",
       "    x.observe(notebookContainer, {childList: true});\n",
       "}}\n",
       "\n",
       "// Listen for the clearing of the current output cell\n",
       "var outputEl = gd.closest('.output');\n",
       "if (outputEl) {{\n",
       "    x.observe(outputEl, {childList: true});\n",
       "}}\n",
       "\n",
       "                        })                };                });            </script>        </div>"
      ]
     },
     "metadata": {},
     "output_type": "display_data"
    }
   ],
   "source": [
    "df_sale = df.groupby(by = [\"Genre\"])['World Sales (in $)'].sum().reset_index()\n",
    "df_count = df.groupby(by = [\"Genre\"])['World Sales (in $)'].count().reset_index()\n",
    "df_ave = (df_sale[\"World Sales (in $)\"] / df_count[\"World Sales (in $)\"]).reset_index()\n",
    "df_ave['Genre'] = df_count[\"Genre\"]\n",
    "px.bar(df_ave\n",
    "      ,x =\"Genre\"\n",
    "       , y = \"World Sales (in $)\"\n",
    "       ,labels = {\"World Sales (in $)\":\"Average Sale For Each Genre\"}\n",
    "      , title = \"Average of sale for films which contain each genre\")\n"
   ]
  },
  {
   "cell_type": "code",
   "execution_count": null,
   "metadata": {},
   "outputs": [],
   "source": []
  },
  {
   "cell_type": "code",
   "execution_count": null,
   "metadata": {},
   "outputs": [],
   "source": []
  },
  {
   "cell_type": "code",
   "execution_count": null,
   "metadata": {},
   "outputs": [],
   "source": []
  },
  {
   "cell_type": "code",
   "execution_count": null,
   "metadata": {},
   "outputs": [],
   "source": []
  }
 ],
 "metadata": {
  "kernelspec": {
   "display_name": "Python 3",
   "language": "python",
   "name": "python3"
  },
  "language_info": {
   "codemirror_mode": {
    "name": "ipython",
    "version": 3
   },
   "file_extension": ".py",
   "mimetype": "text/x-python",
   "name": "python",
   "nbconvert_exporter": "python",
   "pygments_lexer": "ipython3",
   "version": "3.7.6"
  }
 },
 "nbformat": 4,
 "nbformat_minor": 4
}
